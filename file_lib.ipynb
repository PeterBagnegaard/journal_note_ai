{
 "cells": [
  {
   "cell_type": "code",
   "execution_count": 1,
   "id": "ee10fb4e",
   "metadata": {},
   "outputs": [],
   "source": [
    "from os import listdir, path, walk, remove\n",
    "import numpy as np\n",
    "from shutil import rmtree\n",
    "\n",
    "root = '/home/bagnegaard/Projects/diagnostiknotat_understanding'"
   ]
  },
  {
   "cell_type": "code",
   "execution_count": 19,
   "id": "47107660",
   "metadata": {},
   "outputs": [
    {
     "data": {
      "text/plain": [
       "['/home/bagnegaard/Projects/diagnostiknotat_understanding/test_trainer',\n",
       " '/home/bagnegaard/Projects/diagnostiknotat_understanding/bert-base-multilingual-cased_learning_rate_2e-05',\n",
       " '/home/bagnegaard/Projects/diagnostiknotat_understanding/test',\n",
       " '/home/bagnegaard/Projects/diagnostiknotat_understanding/test2',\n",
       " '/home/bagnegaard/Projects/diagnostiknotat_understanding/test3',\n",
       " '/home/bagnegaard/Projects/diagnostiknotat_understanding/test4']"
      ]
     },
     "execution_count": 19,
     "metadata": {},
     "output_type": "execute_result"
    }
   ],
   "source": [
    "list(files.checkpoint_dict.keys())"
   ]
  },
  {
   "cell_type": "code",
   "execution_count": null,
   "id": "22bd1d8e",
   "metadata": {},
   "outputs": [],
   "source": [
    "\"\"\"def get_last_checkpoint (checkpoint_dir, full_path=True):\n",
    "    file_paths = os.listdir(checkpoint_dir)\n",
    "    numbers = [int(file_path.split('-')[1]) for file_path in file_paths if file_path.startswith('checkpoint')]\n",
    "    last_path = file_paths[np.argmax(numbers)]\n",
    "    if full_path:\n",
    "        return os.path.join(checkpoint_dir, last_path)\n",
    "    else:\n",
    "        return last_path\n",
    "\n",
    "\n",
    "def delete_folders(folders, root, verbose=True):\n",
    "    last_checkpoint = get_last_checkpoint(root, full_path=False)\n",
    "    \n",
    "    folders_to_delete = [path.join(root, folder) for folder in folders if folder != last_checkpoint]\n",
    "    \n",
    "    if verbose:\n",
    "        print(f\"Removing {len(folders_to_delete)} from {root}\")\n",
    "    \n",
    "    for folder_to_delete in folders_to_delete:\n",
    "        if verbose:\n",
    "            print(f\"Removing {folder_to_delete[len(root):]}\")\n",
    "        rmtree(folder_to_delete)\n",
    "\n",
    "\n",
    "def delete_old_checkpoints():\n",
    "    \n",
    "    def _delete_old_checkpoints():\n",
    "        folders = [f\"{path.join(root, folder)}\" for folder in listdir(root) if path.isdir(folder)]\n",
    "        sub_folders = [j for j in walk(root) if j[0] in folders]\n",
    "        \n",
    "        for s_name, s_folders, s_files in sub_folders:\n",
    "            checkpoints = sum([name.startswith('checkpoint') for name in s_folders])\n",
    "\n",
    "            if checkpoints > 1 and len(s_files) == 0:\n",
    "                res = input(f\"Cleaning file {s_name} \\nWrite 'abort' to abort\")\n",
    "                if res == \"abort\":\n",
    "                    break\n",
    "\n",
    "                delete_folders(s_folders, s_name)\n",
    "\n",
    "    res = input(\"This is serious business. A bunch of stuff will be deleted. Write 'yes' to continue\")\n",
    "    \n",
    "    if res.lower() == \"yes\" or res.lower() == \"y\":\n",
    "        _delete_old_checkpoints()\n",
    "        print(\"Done\")\n",
    "    else:\n",
    "        print(\"Aborted\")\"\"\""
   ]
  },
  {
   "cell_type": "code",
   "execution_count": 50,
   "id": "4eaad462",
   "metadata": {
    "scrolled": false
   },
   "outputs": [
    {
     "name": "stdout",
     "output_type": "stream",
     "text": [
      "Pick one of the following training runs \n",
      "\n",
      "0: test_trainer\n",
      "1: bert-base-multilingual-cased_learning_rate_2e-05\n",
      "2: test\n",
      "3: test2\n",
      "4: test3\n",
      "5: test4\n",
      "3\n"
     ]
    },
    {
     "data": {
      "text/plain": [
       "'/home/bagnegaard/Projects/diagnostiknotat_understanding/test2/checkpoint-81000'"
      ]
     },
     "execution_count": 50,
     "metadata": {},
     "output_type": "execute_result"
    }
   ],
   "source": [
    "class Files:\n",
    "    \n",
    "    def __init__(self):\n",
    "        def contains_checkpoints(folder):\n",
    "            return any([subsub_folder.startswith('checkpoint') for subsub_folder in folder])\n",
    "        \n",
    "        self.root = root\n",
    "        folders = [f\"{path.join(root, folder)}\" for folder in listdir(root) if path.isdir(folder)]\n",
    "        self.checkpoint_dict = {sub_folder[0] : sub_folder[1] for sub_folder in walk(root) if sub_folder[0] in folders and contains_checkpoints(sub_folder[1])}\n",
    "    \n",
    "\n",
    "    def pick_checkpoint(self):\n",
    "\n",
    "        def pick_checkpoint_folder(root):\n",
    "            folders = [str(key)[(len(root)+1):] for key in self.checkpoint_dict.keys()]\n",
    "\n",
    "            print(\"Pick one of the following training runs \\n\")\n",
    "            [print(f\"{idx}: {folder}\") for idx, folder in enumerate(folders)]\n",
    "            res = input()\n",
    "            choice = None\n",
    "\n",
    "            if res.isdigit():\n",
    "                idx = int(res)\n",
    "                if idx < 0 or idx > len(self.checkpoint_dict):\n",
    "                    print(f\"{idx} should be between 0 and {len(self.checkpoint_dict) -1}\")\n",
    "                else:\n",
    "                    choice = list(self.checkpoint_dict.keys())[idx]\n",
    "            else:\n",
    "                if res not in folders:\n",
    "                    print(f\"{res} is not valid\")\n",
    "                else:\n",
    "                    choice = path.join(root, res)\n",
    "\n",
    "            return choice\n",
    "\n",
    "        def pick_checkpoint_from_checkpoints(checkpoints):\n",
    "\n",
    "            if len(checkpoints) == 0:\n",
    "                raise Exception(\"No checkpoints found\")\n",
    "            if len(checkpoints) == 1:\n",
    "                return checkpoints[0]\n",
    "\n",
    "\n",
    "            print(\"\\nPick one of the following checkpoints\")\n",
    "            [print(f\"{idx}: {checkpoint}\") for idx, checkpoint in enumerate(checkpoints)]\n",
    "\n",
    "            res = input()\n",
    "            checkpoint = None\n",
    "\n",
    "            if res.isdigit():\n",
    "                idx = int(res)\n",
    "                if idx < 0 or idx > len(checkpoints):\n",
    "                    print(f\"{idx} should be between 0 and {len(checkpoints) -1}\")\n",
    "                else:\n",
    "                    checkpoint = list(checkpoints)[idx]\n",
    "            else:\n",
    "                if res not in checkpoints:\n",
    "                    print(f\"{res} is not valid\")\n",
    "                else:\n",
    "                    checkpoint = res\n",
    "\n",
    "            return checkpoint\n",
    "\n",
    "        checkpoint_folder = pick_checkpoint_folder(self.root)\n",
    "\n",
    "        checkpoints = self.checkpoint_dict[checkpoint_folder]\n",
    "\n",
    "        checkpoint = pick_checkpoint_from_checkpoints(checkpoints)\n",
    "\n",
    "        return path.join(checkpoint_folder, checkpoint)\n",
    "\n",
    "    def get_last_checkpoint (self, checkpoint_dir, full_path=True):\n",
    "        file_paths = listdir(checkpoint_dir)\n",
    "        numbers = [int(file_path.split('-')[1]) for file_path in file_paths if file_path.startswith('checkpoint')]\n",
    "        last_path = file_paths[np.argmax(numbers)]\n",
    "        if full_path:\n",
    "            return path.join(checkpoint_dir, last_path)\n",
    "        else:\n",
    "            return last_path\n",
    "\n",
    "        \n",
    "    def delete_old_checkpoints(self, verbose=True):\n",
    "        \n",
    "        def _print(s):\n",
    "            if verbose:\n",
    "                print(s)\n",
    "        \n",
    "        def delete_folders(checkpoint_root, checkpoints, verbose=True):\n",
    "            last_checkpoint = self.get_last_checkpoint(checkpoint_root, full_path=False)\n",
    "            checkpoints.remove(last_checkpoint)\n",
    "            _print(f\"Removing {len(checkpoints)} from {checkpoint_root}\")\n",
    "\n",
    "            for folder_to_delete in checkpoints:\n",
    "                _print(f\"Removing {folder_to_delete}\")\n",
    "                rmtree(path.join(checkpoint_root, folder_to_delete))\n",
    "\n",
    "        def _delete_old_checkpoints(verbose):\n",
    "            for checkpoint_root, checkpoints in self.checkpoint_dict.items():\n",
    "\n",
    "                if len(checkpoints) > 1:\n",
    "                    \n",
    "                    res = input(f\"Clean training run {checkpoint_root}?\\nWrite 'continue' to skip this\")\n",
    "                    if res == \"continue\":\n",
    "                        continue\n",
    "\n",
    "                    delete_folders(checkpoint_root, checkpoints, verbose)\n",
    "\n",
    "        res = input(\"This is serious business. A bunch of stuff will be deleted. Write 'yes' to continue\")\n",
    "        \n",
    "        if res.lower() == \"yes\" or res.lower() == \"y\":\n",
    "            _delete_old_checkpoints(verbose)\n",
    "            print(\"Done\")\n",
    "        else:\n",
    "            print(\"Aborted\")\n",
    "    \n",
    "files = Files()\n",
    "files.pick_checkpoint()\n",
    "#files.delete_old_checkpoints()"
   ]
  },
  {
   "cell_type": "code",
   "execution_count": null,
   "id": "4a552a85",
   "metadata": {},
   "outputs": [],
   "source": []
  },
  {
   "cell_type": "code",
   "execution_count": null,
   "id": "f0df9c3b",
   "metadata": {},
   "outputs": [],
   "source": []
  },
  {
   "cell_type": "code",
   "execution_count": null,
   "id": "b80c8a70",
   "metadata": {},
   "outputs": [],
   "source": []
  },
  {
   "cell_type": "code",
   "execution_count": null,
   "id": "e5ec6010",
   "metadata": {},
   "outputs": [],
   "source": []
  },
  {
   "cell_type": "code",
   "execution_count": null,
   "id": "e1185756",
   "metadata": {},
   "outputs": [],
   "source": []
  },
  {
   "cell_type": "code",
   "execution_count": null,
   "id": "a4ab8824",
   "metadata": {},
   "outputs": [],
   "source": []
  },
  {
   "cell_type": "code",
   "execution_count": null,
   "id": "777c77d7",
   "metadata": {},
   "outputs": [],
   "source": []
  },
  {
   "cell_type": "code",
   "execution_count": null,
   "id": "02c4176d",
   "metadata": {},
   "outputs": [],
   "source": []
  },
  {
   "cell_type": "code",
   "execution_count": null,
   "id": "feb135f2",
   "metadata": {},
   "outputs": [],
   "source": []
  },
  {
   "cell_type": "code",
   "execution_count": null,
   "id": "0fc6ceec",
   "metadata": {},
   "outputs": [],
   "source": []
  },
  {
   "cell_type": "code",
   "execution_count": null,
   "id": "eb502e5d",
   "metadata": {},
   "outputs": [],
   "source": []
  },
  {
   "cell_type": "code",
   "execution_count": null,
   "id": "4656ad0c",
   "metadata": {},
   "outputs": [],
   "source": []
  },
  {
   "cell_type": "code",
   "execution_count": null,
   "id": "444e8725",
   "metadata": {},
   "outputs": [],
   "source": []
  },
  {
   "cell_type": "code",
   "execution_count": null,
   "id": "c0068eb1",
   "metadata": {},
   "outputs": [],
   "source": []
  },
  {
   "cell_type": "code",
   "execution_count": null,
   "id": "7980e2c4",
   "metadata": {},
   "outputs": [],
   "source": []
  },
  {
   "cell_type": "code",
   "execution_count": null,
   "id": "1ce85cff",
   "metadata": {},
   "outputs": [],
   "source": []
  },
  {
   "cell_type": "code",
   "execution_count": null,
   "id": "6182e7ba",
   "metadata": {},
   "outputs": [],
   "source": []
  },
  {
   "cell_type": "code",
   "execution_count": null,
   "id": "b6617756",
   "metadata": {},
   "outputs": [],
   "source": []
  },
  {
   "cell_type": "code",
   "execution_count": null,
   "id": "0bbffb87",
   "metadata": {},
   "outputs": [],
   "source": []
  },
  {
   "cell_type": "code",
   "execution_count": null,
   "id": "37af26d5",
   "metadata": {},
   "outputs": [],
   "source": []
  },
  {
   "cell_type": "code",
   "execution_count": null,
   "id": "41f5fa2d",
   "metadata": {},
   "outputs": [],
   "source": []
  }
 ],
 "metadata": {
  "kernelspec": {
   "display_name": "Python 3 (ipykernel)",
   "language": "python",
   "name": "python3"
  },
  "language_info": {
   "codemirror_mode": {
    "name": "ipython",
    "version": 3
   },
   "file_extension": ".py",
   "mimetype": "text/x-python",
   "name": "python",
   "nbconvert_exporter": "python",
   "pygments_lexer": "ipython3",
   "version": "3.10.9"
  }
 },
 "nbformat": 4,
 "nbformat_minor": 5
}
