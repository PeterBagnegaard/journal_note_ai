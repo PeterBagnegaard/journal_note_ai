{
 "cells": [
  {
   "cell_type": "markdown",
   "id": "18f7e5e9-c6ae-43e8-aeda-65cde0769b82",
   "metadata": {},
   "source": [
    "## Build model and train it"
   ]
  },
  {
   "cell_type": "code",
   "execution_count": 1,
   "id": "73de121d-f75c-4c36-a24b-3cf658da2bc5",
   "metadata": {
    "tags": []
   },
   "outputs": [],
   "source": [
    "%run data_diagnostiknotat.ipynb"
   ]
  },
  {
   "cell_type": "code",
   "execution_count": 2,
   "id": "c71073f6-190a-46b9-88e9-6acaa609cb63",
   "metadata": {
    "tags": []
   },
   "outputs": [
    {
     "name": "stderr",
     "output_type": "stream",
     "text": [
      "/tmp/ipykernel_4416/2669447464.py:23: UserWarning: pandas only supports SQLAlchemy connectable (engine/connection) or database string URI or sqlite3 DBAPI2 connection. Other DBAPI2 objects are not tested. Please consider using SQLAlchemy.\n",
      "  res = sqlio.read_sql_query(query, conn)\n",
      "/tmp/ipykernel_4416/1141260205.py:19: UserWarning: pandas only supports SQLAlchemy connectable (engine/connection) or database string URI or sqlite3 DBAPI2 connection. Other DBAPI2 objects are not tested. Please consider using SQLAlchemy.\n",
      "  res = sqlio.read_sql_query(query, conn)\n",
      "/home/bagnegaard/anaconda3/lib/python3.10/site-packages/pyarrow/pandas_compat.py:373: FutureWarning: is_sparse is deprecated and will be removed in a future version. Check `isinstance(dtype, pd.SparseDtype)` instead.\n",
      "  if _pandas_api.is_sparse(col):\n"
     ]
    }
   ],
   "source": [
    "# Import data\n",
    "popular_billingydelser = PopularBillingydelser(10)\n",
    "data = get_data(popular_billingydelser)"
   ]
  },
  {
   "cell_type": "code",
   "execution_count": 3,
   "id": "b0ec2b01-b180-4d91-95a4-77d763a40da1",
   "metadata": {
    "tags": []
   },
   "outputs": [
    {
     "data": {
      "text/plain": [
       "{'diagnostiknotat_id': 2591711,\n",
       " 'focus_id': 2373749,\n",
       " 'text': '',\n",
       " 'billingydelse_numre': 'UXRC40',\n",
       " 'labels': [0.0, 0.0, 0.0, 0.0, 0.0, 0.0, 0.0, 0.0, 0.0, 1.0]}"
      ]
     },
     "execution_count": 3,
     "metadata": {},
     "output_type": "execute_result"
    }
   ],
   "source": [
    "from datasets import load_dataset\n",
    "\n",
    "#dataset = load_dataset(\"yelp_review_full\")\n",
    "dataset = data.train_test_split(test_size=0.1)\n",
    "dataset[\"train\"][100]"
   ]
  },
  {
   "cell_type": "code",
   "execution_count": 4,
   "id": "56e7c9b3-81cd-430b-a7d3-da9b6b899587",
   "metadata": {
    "tags": []
   },
   "outputs": [
    {
     "data": {
      "application/vnd.jupyter.widget-view+json": {
       "model_id": "bbe4048c17d34a1493c6f274166c8572",
       "version_major": 2,
       "version_minor": 0
      },
      "text/plain": [
       "Map:   0%|          | 0/236622 [00:00<?, ? examples/s]"
      ]
     },
     "metadata": {},
     "output_type": "display_data"
    },
    {
     "data": {
      "application/vnd.jupyter.widget-view+json": {
       "model_id": "b94c1d4b974c41508b2166eaeebde6a4",
       "version_major": 2,
       "version_minor": 0
      },
      "text/plain": [
       "Map:   0%|          | 0/26292 [00:00<?, ? examples/s]"
      ]
     },
     "metadata": {},
     "output_type": "display_data"
    }
   ],
   "source": [
    "from transformers import AutoTokenizer\n",
    "\n",
    "tokenizer = AutoTokenizer.from_pretrained(\"bert-base-cased\")\n",
    "\n",
    "\n",
    "def tokenize_function(examples):\n",
    "    return tokenizer(examples[\"text\"], padding=\"max_length\", truncation=True)\n",
    "\n",
    "\n",
    "tokenized_datasets = dataset.map(tokenize_function, batched=True)"
   ]
  },
  {
   "cell_type": "code",
   "execution_count": 5,
   "id": "885b6329-1f1b-467b-89c4-fff20c8a18fd",
   "metadata": {
    "tags": []
   },
   "outputs": [],
   "source": [
    "small_train_dataset = tokenized_datasets[\"train\"].shuffle(seed=42).select(range(1000))\n",
    "small_eval_dataset = tokenized_datasets[\"test\"].shuffle(seed=42).select(range(1000))"
   ]
  },
  {
   "cell_type": "code",
   "execution_count": 7,
   "id": "86c73752-9afb-44f1-bf78-c24eda7f324b",
   "metadata": {
    "tags": []
   },
   "outputs": [
    {
     "name": "stderr",
     "output_type": "stream",
     "text": [
      "Some weights of BertForSequenceClassification were not initialized from the model checkpoint at bert-base-cased and are newly initialized: ['classifier.weight', 'classifier.bias']\n",
      "You should probably TRAIN this model on a down-stream task to be able to use it for predictions and inference.\n"
     ]
    }
   ],
   "source": [
    "from transformers import AutoModelForSequenceClassification\n",
    "\n",
    "model = AutoModelForSequenceClassification.from_pretrained(\n",
    "    \"bert-base-cased\", \n",
    "    num_labels=popular_billingydelser.limit,\n",
    "    problem_type=\"multi_label_classification\"\n",
    ")\n",
    "#model = AutoModelForSequenceClassification.from_pretrained(\"bert-base-cased\", num_labels=5)"
   ]
  },
  {
   "cell_type": "code",
   "execution_count": 8,
   "id": "145d5551-1cb5-43b6-af1d-f80ef2248509",
   "metadata": {
    "tags": []
   },
   "outputs": [
    {
     "name": "stdout",
     "output_type": "stream",
     "text": [
      "logits=tensor([[-0.2394,  0.0065,  0.0185,  0.3664, -1.1024, -0.0765,  0.0812, -0.6688,\n",
      "         -0.0269,  0.5235]], grad_fn=<AddmmBackward0>)\n",
      "predicted_label=tensor([9])\n"
     ]
    }
   ],
   "source": [
    "# Your text\n",
    "text = \"Hello this is a text\"\n",
    "\n",
    "# Tokenize the text\n",
    "inputs = tokenizer(text, return_tensors=\"pt\")\n",
    "\n",
    "# Get the model's output\n",
    "outputs = model(**inputs)\n",
    "\n",
    "# The output logits are in the 0th index of outputs\n",
    "logits = outputs[0]\n",
    "print(f\"{logits=}\")\n",
    "\n",
    "# You can get the predicted label using argmax\n",
    "predicted_label = logits.argmax(dim=1)\n",
    "print(f\"{predicted_label=}\")"
   ]
  },
  {
   "cell_type": "code",
   "execution_count": 9,
   "id": "b9693fb3-5c8e-4038-bf14-c89e17911091",
   "metadata": {
    "tags": []
   },
   "outputs": [],
   "source": [
    "from transformers import TrainingArguments\n",
    "\n",
    "training_args = TrainingArguments(output_dir=\"test_trainer\")"
   ]
  },
  {
   "cell_type": "code",
   "execution_count": 10,
   "id": "2c96c142-d9ce-44e1-9d7e-5e154a2d9349",
   "metadata": {
    "tags": []
   },
   "outputs": [
    {
     "name": "stderr",
     "output_type": "stream",
     "text": [
      "2024-01-03 09:37:30.772855: I tensorflow/core/util/port.cc:111] oneDNN custom operations are on. You may see slightly different numerical results due to floating-point round-off errors from different computation orders. To turn them off, set the environment variable `TF_ENABLE_ONEDNN_OPTS=0`.\n",
      "2024-01-03 09:37:30.943208: E tensorflow/compiler/xla/stream_executor/cuda/cuda_dnn.cc:9342] Unable to register cuDNN factory: Attempting to register factory for plugin cuDNN when one has already been registered\n",
      "2024-01-03 09:37:30.943246: E tensorflow/compiler/xla/stream_executor/cuda/cuda_fft.cc:609] Unable to register cuFFT factory: Attempting to register factory for plugin cuFFT when one has already been registered\n",
      "2024-01-03 09:37:30.943262: E tensorflow/compiler/xla/stream_executor/cuda/cuda_blas.cc:1518] Unable to register cuBLAS factory: Attempting to register factory for plugin cuBLAS when one has already been registered\n",
      "2024-01-03 09:37:30.977407: I tensorflow/core/platform/cpu_feature_guard.cc:182] This TensorFlow binary is optimized to use available CPU instructions in performance-critical operations.\n",
      "To enable the following instructions: AVX2 AVX512F AVX512_VNNI FMA, in other operations, rebuild TensorFlow with the appropriate compiler flags.\n"
     ]
    }
   ],
   "source": [
    "import numpy as np\n",
    "import evaluate\n",
    "\n",
    "#metric = evaluate.load(\"accuracy\")\n",
    "metric = evaluate.load('f1')"
   ]
  },
  {
   "cell_type": "code",
   "execution_count": 12,
   "id": "cca070ca-1f33-40e4-98d4-6ba9f7fb33ea",
   "metadata": {
    "tags": []
   },
   "outputs": [],
   "source": [
    "def compute_metrics(eval_pred):\n",
    "    logits, labels = eval_pred\n",
    "    \n",
    "#    predictions = np.argmax(logits, axis=-1)\n",
    "#    labels = np.array([np.argmax(val) for val in labels])\n",
    "    predictions = (logits > 0).flatten().astype(float)\n",
    "    labels = labels.flatten().astype(float)\n",
    "    \n",
    "    #print(f\"{labels.shape}\")\n",
    "    #print(f\"{labels=}\")\n",
    "    #print(f\"{predictions.shape}\")\n",
    "    #print(f\"{predictions=}\")\n",
    "    return metric.compute(predictions=predictions, references=labels)"
   ]
  },
  {
   "cell_type": "code",
   "execution_count": 13,
   "id": "c36b1f45-f74a-4ca0-9fe0-78f984f20e35",
   "metadata": {
    "tags": []
   },
   "outputs": [],
   "source": [
    "from transformers import TrainingArguments, Trainer\n",
    "\n",
    "training_args = TrainingArguments(\n",
    "    output_dir=\"test_trainer\",\n",
    "    evaluation_strategy=\"epoch\",\n",
    "    report_to='none'\n",
    ")"
   ]
  },
  {
   "cell_type": "code",
   "execution_count": 14,
   "id": "aa6e54ea-766f-47b2-a1c4-ba41bb69481c",
   "metadata": {
    "tags": []
   },
   "outputs": [],
   "source": [
    "trainer = Trainer(\n",
    "    model=model,\n",
    "    args=training_args,\n",
    "    train_dataset=small_train_dataset,\n",
    "    eval_dataset=small_eval_dataset,\n",
    "    compute_metrics=compute_metrics,\n",
    ")"
   ]
  },
  {
   "cell_type": "code",
   "execution_count": 15,
   "id": "1f1a0624-801d-47d9-b1aa-fc618dd25e9b",
   "metadata": {
    "tags": []
   },
   "outputs": [
    {
     "data": {
      "text/html": [
       "\n",
       "    <div>\n",
       "      \n",
       "      <progress value='375' max='375' style='width:300px; height:20px; vertical-align: middle;'></progress>\n",
       "      [375/375 02:03, Epoch 3/3]\n",
       "    </div>\n",
       "    <table border=\"1\" class=\"dataframe\">\n",
       "  <thead>\n",
       " <tr style=\"text-align: left;\">\n",
       "      <th>Epoch</th>\n",
       "      <th>Training Loss</th>\n",
       "      <th>Validation Loss</th>\n",
       "      <th>F1</th>\n",
       "    </tr>\n",
       "  </thead>\n",
       "  <tbody>\n",
       "    <tr>\n",
       "      <td>1</td>\n",
       "      <td>No log</td>\n",
       "      <td>0.219419</td>\n",
       "      <td>0.571578</td>\n",
       "    </tr>\n",
       "    <tr>\n",
       "      <td>2</td>\n",
       "      <td>No log</td>\n",
       "      <td>0.175292</td>\n",
       "      <td>0.699405</td>\n",
       "    </tr>\n",
       "    <tr>\n",
       "      <td>3</td>\n",
       "      <td>No log</td>\n",
       "      <td>0.159280</td>\n",
       "      <td>0.717181</td>\n",
       "    </tr>\n",
       "  </tbody>\n",
       "</table><p>"
      ],
      "text/plain": [
       "<IPython.core.display.HTML object>"
      ]
     },
     "metadata": {},
     "output_type": "display_data"
    },
    {
     "data": {
      "text/plain": [
       "TrainOutput(global_step=375, training_loss=0.23054107666015625, metrics={'train_runtime': 124.6446, 'train_samples_per_second': 24.068, 'train_steps_per_second': 3.009, 'total_flos': 789389862912000.0, 'train_loss': 0.23054107666015625, 'epoch': 3.0})"
      ]
     },
     "execution_count": 15,
     "metadata": {},
     "output_type": "execute_result"
    }
   ],
   "source": [
    "trainer.train()"
   ]
  },
  {
   "cell_type": "code",
   "execution_count": 218,
   "id": "d87355da",
   "metadata": {},
   "outputs": [
    {
     "name": "stdout",
     "output_type": "stream",
     "text": [
      "====================================================================================================\n",
      "AAF21: Førstegangsbesøg\n",
      "====================================================================================================\n",
      "Patienten henvises grundet smerter i begge ben, primært i venstre knæ. Hun føler af og til at knæet låser. Hun skal da lirke det op, inden hun kan gå videre. \n",
      "\n",
      "OBJEKTIVT\n",
      "Hun går og støtter normalt. Hun afvikler gangen normalt. \n",
      "Hun kan gå på hæle og tæer, hopper på 1 ben, går i hugsiddende stilling flere gange efter hinanden helt uden problemer. \n",
      "I rygleje er benene lige lange. Der er en lille smule genu varum, med samlede malleoler er der 1½ fingersbrede mellem femurkondylerne. På flekteret knæled er der ekstenderet ankelled, vender længdeaksen fra femur ud mod 2. tåen bilateralt. I bugleje er der normal femur anteversion.\n",
      "Svarende til venstre knæ er der en øm plica synovialis medialt. Der er ingen særlig ømhed ved ledlinier, ingen løshed af nogen art. Ingen retropatellar skurren eller ømhed. \n",
      "Højre knæ: i.a. \n",
      "\n",
      "Jeg skønner der er indikation for en \n",
      "\t\t\t\tMR-ve. knæ. \n",
      "De er lovet mailsvar. Jeg har sagt, at der muligvis kan blive tale om artroskopi med plicaresektion. \n",
      "\n",
      "Michael Davidsen\n",
      "/rbu\n"
     ]
    },
    {
     "data": {
      "image/png": "[encoded data removed]",
      "text/plain": [
       "<Figure size 640x480 with 1 Axes>"
      ]
     },
     "metadata": {},
     "output_type": "display_data"
    }
   ],
   "source": [
    "def plot_prection(idx):\n",
    "    text = small_eval_dataset['text'][idx]\n",
    "    truth = np.array(small_eval_dataset['labels'][idx], dtype=bool)\n",
    "    sks_description = \", \".join(list(popular_billingydelser.popular_numre_df[truth]['billingydelse_tekst']))\n",
    "    sks_code = \", \".join(list(popular_billingydelser.popular_numre_df[truth]['billingydelse_nummer']))\n",
    "\n",
    "    inputs = tokenizer(text, return_tensors=\"pt\", padding=\"max_length\", truncation=True)\n",
    "\n",
    "    inputs2 = tokenizer(text, return_tensors=\"pt\")\n",
    "    l = inputs2['input_ids'].shape[1]\n",
    "    if l > 512:\n",
    "        ratio = str((l - 512) / 512 * 100)\n",
    "        ratio = ratio.split('.')[0]\n",
    "        print(f\"{'!'*54}\\n[WARNING] {ratio}% of the text has been truncated [WARNING]\\n{'!'*54}\\n\")\n",
    "        \n",
    "    print(f\"{'='*100}\\n{sks_code}: {sks_description}\\n{'='*100}\\n{text}\")\n",
    "\n",
    "    input_cuda = {}\n",
    "    for key in inputs.keys():\n",
    "        input_cuda[key] = inputs[key].to('cuda')\n",
    "\n",
    "    outputs = trainer.model(**input_cuda)\n",
    "\n",
    "    logits = outputs[0].cpu().detach().numpy().flatten()\n",
    "\n",
    "    x_ax = np.arange(len(truth))\n",
    "\n",
    "    fig, ax = plt.subplots(1, 1)\n",
    "    ax.bar(x_ax, logits, color='black', width=0.5, label=\"Predicted SKS code\")\n",
    "    ax.bar(x_ax[truth], logits[truth], color='red', width=0.5, label=\"True SKS code\")\n",
    "    ax.set_xticks(x_ax)\n",
    "    ax.set_xticklabels(popular_billingydelser.popular_numre_tuple, rotation=90)\n",
    "    ax.legend()\n",
    "\n",
    "idx = 201\n",
    "plot_prection(idx)"
   ]
  },
  {
   "cell_type": "code",
   "execution_count": null,
   "id": "88db50b8",
   "metadata": {},
   "outputs": [],
   "source": []
  }
 ],
 "metadata": {
  "kernelspec": {
   "display_name": "Python 3 (ipykernel)",
   "language": "python",
   "name": "python3"
  },
  "language_info": {
   "codemirror_mode": {
    "name": "ipython",
    "version": 3
   },
   "file_extension": ".py",
   "mimetype": "text/x-python",
   "name": "python",
   "nbconvert_exporter": "python",
   "pygments_lexer": "ipython3",
   "version": "3.10.9"
  }
 },
 "nbformat": 4,
 "nbformat_minor": 5
}
