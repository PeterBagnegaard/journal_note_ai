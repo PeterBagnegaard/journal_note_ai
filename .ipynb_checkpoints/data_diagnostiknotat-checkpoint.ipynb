{
 "cells": [
  {
   "cell_type": "code",
   "execution_count": 1,
   "id": "eb8057ac-080e-4cb9-afb7-e07b9d6c7cd6",
   "metadata": {
    "tags": []
   },
   "outputs": [],
   "source": [
    "from html import unescape\n",
    "import psycopg2\n",
    "from psycopg2.extras import RealDictCursor\n",
    "import pandas as pd\n",
    "import pandas.io.sql as sqlio\n",
    "import html\n",
    "from datasets import Dataset\n",
    "import numpy as np\n",
    "import matplotlib.pyplot as plt\n"
   ]
  },
  {
   "cell_type": "code",
   "execution_count": 2,
   "id": "d2edd5e7-15a0-4f0a-b6ff-61cfd1641e71",
   "metadata": {
    "tags": []
   },
   "outputs": [],
   "source": [
    "def get_popular_billingydelse_numre(limit=10, params={\"host\":\"192.168.40.12\", \"database\":\"test_capio2\", \"user\":\"xcare\", \"password\":\"xcare\"}):\n",
    "\n",
    "    create_view = f\"\"\"\n",
    "            CREATE OR REPLACE VIEW popular_billingydelse_numre AS\n",
    "            SELECT b.billingydelse_tekst,\n",
    "            b.billingydelse_nummer, \n",
    "            count(*) AS count\n",
    "            FROM billingydelse b\n",
    "            WHERE b.billingydelse_nummer != ''\n",
    "            GROUP BY b.billingydelse_nummer, b.billingydelse_tekst\n",
    "            ORDER BY count desc\n",
    "            LIMIT {limit};\n",
    "            \"\"\"\n",
    "    \n",
    "    query = \"select * from popular_billingydelse_numre;\"\n",
    "\n",
    "    with psycopg2.connect(**params) as conn:\n",
    "        \n",
    "        with conn.cursor(cursor_factory=RealDictCursor) as cursor:\n",
    "\n",
    "            cursor.execute(create_view)\n",
    "            \n",
    "        res = sqlio.read_sql_query(query, conn)\n",
    "    \n",
    "    return res"
   ]
  },
  {
   "cell_type": "code",
   "execution_count": 3,
   "id": "47d94f52-14bd-4bea-8237-8e6239d945a0",
   "metadata": {
    "tags": []
   },
   "outputs": [],
   "source": [
    "class PopularBillingydelser:\n",
    "    \n",
    "    def __init__(self, limit=10):\n",
    "        self.limit = limit\n",
    "        self.popular_numre_df = get_popular_billingydelse_numre(limit)\n",
    "        self.popular_numre_tuple = tuple(self.popular_numre_df.billingydelse_nummer)\n",
    "        \n",
    "        self.idx2sks_dict = self.popular_numre_df.billingydelse_nummer.to_dict()\n",
    "        self.sks2idx_dict = {val: key for key, val in self.idx2sks_dict.items()}\n",
    "        \n",
    "    def sks2idx(self, billingydelse_numre):\n",
    "        assert type(billingydelse_numre) is str, f\"Input {billingydelse_numre} for sks2idx should be str, found {type(billingydelse_numre)}\" \n",
    "        \n",
    "        array = np.zeros(self.limit, dtype=float)\n",
    "        \n",
    "        for sks in billingydelse_numre.split(';'):\n",
    "            array[self.sks2idx_dict[sks]] = 1.\n",
    "        \n",
    "        return array\n",
    "    \n",
    "    def idx2sks(self, array):\n",
    "        assert type(array) == np.ndarray, f\"Input {array} for idx2sks should be np.array, found {type(array)}\"        \n",
    "        assert array.dtype == float, f\"dtype of {array} for idx2sks should be float, found {array.dtype}\"        \n",
    "        \n",
    "        sks_codes = [self.idx2sks_dict[idx] for idx, val in enumerate(array) if val]\n",
    "        return \";\".join(sks_codes)\n",
    "\n",
    "#popular_billingydelser = PopularBillingydelser(10)\n",
    "#popular_billingydelser"
   ]
  },
  {
   "cell_type": "code",
   "execution_count": 4,
   "id": "0f6e41c2-aed4-4b14-8fcd-4c151d2df99d",
   "metadata": {
    "tags": []
   },
   "outputs": [],
   "source": [
    "def get_data(popular_billingydelser, date='2019-03-01', params={\"host\":\"192.168.40.12\", \"database\":\"test_capio2\", \"user\":\"xcare\", \"password\":\"xcare\"}):\n",
    "    \n",
    "    include_numre = tuple(popular_billingydelser.popular_numre_tuple)\n",
    "\n",
    "    query = f\"\"\"\n",
    "            SELECT d.diagnostiknotat_id,\n",
    "            b.focus_id,\n",
    "            d.diagnostiknotat_tekst as text, \n",
    "            string_agg(b.billingydelse_nummer, ';') as billingydelse_numre\n",
    "            FROM diagnostiknotat d \n",
    "            JOIN billingydelse b ON b.focus_id = d.fokus_id \n",
    "            WHERE d.created > '{date}'\n",
    "            AND b.billingydelse_nummer IN {include_numre}\n",
    "            GROUP BY d.diagnostiknotat_id, d.diagnostiknotat_tekst, b.focus_id\n",
    "            ORDER BY d.diagnostiknotat_id DESC\n",
    "            \"\"\".replace('\\n', '')\n",
    "\n",
    "    with psycopg2.connect(**params) as conn:\n",
    "        res = sqlio.read_sql_query(query, conn)\n",
    "\n",
    "    res.text = res.text.map(html.unescape)\n",
    "    \n",
    "    res['labels'] = res.billingydelse_numre.map(popular_billingydelser.sks2idx)\n",
    "    \n",
    "    arrow = Dataset.from_pandas(res)\n",
    "    \n",
    "    return arrow\n",
    "\n",
    "#data = get_data(popular_billingydelser)\n",
    "#data"
   ]
  },
  {
   "cell_type": "code",
   "execution_count": 142,
   "id": "c554c24e-8ad0-4399-bbd8-be291021ccea",
   "metadata": {
    "tags": []
   },
   "outputs": [
    {
     "name": "stdout",
     "output_type": "stream",
     "text": [
      "Collecting pyth3\n",
      "  Downloading pyth3-0.7-py3-none-any.whl (29 kB)\n",
      "Installing collected packages: pyth3\n",
      "Successfully installed pyth3-0.7\n",
      "\n",
      "\u001b[1m[\u001b[0m\u001b[34;49mnotice\u001b[0m\u001b[1;39;49m]\u001b[0m\u001b[39;49m A new release of pip is available: \u001b[0m\u001b[31;49m23.3.1\u001b[0m\u001b[39;49m -> \u001b[0m\u001b[32;49m23.3.2\u001b[0m\n",
      "\u001b[1m[\u001b[0m\u001b[34;49mnotice\u001b[0m\u001b[1;39;49m]\u001b[0m\u001b[39;49m To update, run: \u001b[0m\u001b[32;49mpip install --upgrade pip\u001b[0m\n"
     ]
    }
   ],
   "source": [
    "!pip install pyth3"
   ]
  },
  {
   "cell_type": "code",
   "execution_count": 6,
   "id": "a7cd9d3b-fdc4-4f01-a3ea-e18ed592afe7",
   "metadata": {
    "tags": []
   },
   "outputs": [],
   "source": [
    "\"\"\"\n",
    "Test converter\n",
    "\"\"\"\n",
    "def test_converter():\n",
    "    s = \"UXME30;515111;AAF23\"\n",
    "\n",
    "    array = popular_billingydelser.sks2idx(s)\n",
    "    string = popular_billingydelser.idx2sks(array)\n",
    "\n",
    "    print(f\"{s} => {array} => {string}\")\n",
    "    assert s == string"
   ]
  },
  {
   "cell_type": "code",
   "execution_count": null,
   "id": "e53237f4",
   "metadata": {},
   "outputs": [],
   "source": [
    "\"\"\"\n",
    "Get new data\n",
    "\"\"\""
   ]
  },
  {
   "cell_type": "code",
   "execution_count": 150,
   "id": "dc81521f",
   "metadata": {},
   "outputs": [
    {
     "data": {
      "text/plain": [
       "b'Hi'"
      ]
     },
     "execution_count": 150,
     "metadata": {},
     "output_type": "execute_result"
    }
   ],
   "source": [
    "from striprtf.striprtf import rtf_to_text\n",
    "\n",
    "def get_diagnostiknotat_and_diagnosis (params={\"host\":\"192.168.40.12\", \"database\":\"test_capio2\", \"user\":\"xcare\", \"password\":\"xcare\"}):\n",
    "    query = f\"\"\"\n",
    "            SELECT d.diagnostiknotat_id,\n",
    "            f2.diagnose_id,\n",
    "            d.diagnostiknotat_tekst as TEXT\n",
    "            FROM diagnostiknotat d\n",
    "            LEFT JOIN fokus f USING (fokus_id)\n",
    "            LEFT JOIN forloeb f2 using(forloeb_id)\n",
    "            \"\"\".replace('\\n', '')\n",
    "\n",
    "    with psycopg2.connect(**params) as conn:\n",
    "        res = sqlio.read_sql_query(query, conn)\n",
    "        \n",
    "    return res\n",
    "\n",
    "res = get_diagnostiknotat_and_diagnosis()"
   ]
  },
  {
   "cell_type": "code",
   "execution_count": 187,
   "id": "073f7beb",
   "metadata": {},
   "outputs": [
    {
     "name": "stdout",
     "output_type": "stream",
     "text": [
      "{\\rtf1\\ansi\\ansicpg0\\uc1\\deff0\\deflang0\\deflangfe0{\\fonttbl{\\f0\\fnil Arial;}}{\\colortbl;\\red0\\green0\\blue0;\\red0\\green0\\blue255;\\red0\\green255\\blue255;\\red0\\green255\\blue0;\\red255\\green0\\blue255;\\red255\\green0\\blue0;\\red255\\green255\\blue0;\\red255\\green255\\blue255;\\red0\\green0\\blue128;\\red0\\green128\\blue128;\\red0\\green128\\blue0;\\red128\\green0\\blue128;\\red128\\green0\\blue0;\\red128\\green128\\blue0;\\red128\\green128\\blue128;\\red192\\green192\\blue192;}\r\n",
      "\r\n",
      "\r\n",
      "\\pard\\fi0\\li0\\ql\\ri0\\sb0\\sa0\\itap0 \\plain \\f0\\fs22 Radiologerne har vurderet billederne, der er ikke tale om prolaps, men kun protrusion. \r\n",
      "\\par Der er indikation for\\tab \\tab \\tab rp.\\tab konservativ terapi\r\n",
      "\\par \\tab \\tab \\tab \\tab \\tab rp.\\tab journalkopi til egen l\\u230 \\'e6ge\r\n",
      "\\par \\tab \\tab \\tab \\tab \\tab \\tab \\tab Christian M\\u248 \\'f8ller/djo\\par}\n",
      "------------------_\n",
      "Radiologerne har vurderet billederne, der er ikke tale om prolaps, men kun protrusion. \n",
      "Der er indikation for\t\t\trp.\tkonservativ terapi\n",
      "\t\t\t\t\trp.\tjournalkopi til egen læge\n",
      "\t\t\t\t\t\t\tChristian Møller/djo\n",
      "\n"
     ]
    }
   ],
   "source": [
    "text = res[res.diagnostiknotat_id == 445770]['text'].iloc[0]\n",
    "print(text)\n",
    "print(\"------------------_\")\n",
    "print(rtf_to_text(text))"
   ]
  },
  {
   "cell_type": "code",
   "execution_count": 184,
   "id": "853b6b57",
   "metadata": {},
   "outputs": [
    {
     "data": {
      "text/plain": [
       "\"{\\\\rtf1\\\\ansi\\\\ansicpg0\\\\uc1\\\\deff0\\\\deflang0\\\\deflangfe0{\\\\fonttbl{\\\\f0\\\\fnil Arial;}}{\\\\colortbl;\\\\red0\\\\green0\\\\blue0;\\\\red0\\\\green0\\\\blue255;\\\\red0\\\\green255\\\\blue255;\\\\red0\\\\green255\\\\blue0;\\\\red255\\\\green0\\\\blue255;\\\\red255\\\\green0\\\\blue0;\\\\red255\\\\green255\\\\blue0;\\\\red255\\\\green255\\\\blue255;\\\\red0\\\\green0\\\\blue128;\\\\red0\\\\green128\\\\blue128;\\\\red0\\\\green128\\\\blue0;\\\\red128\\\\green0\\\\blue128;\\\\red128\\\\green0\\\\blue0;\\\\red128\\\\green128\\\\blue0;\\\\red128\\\\green128\\\\blue128;\\\\red192\\\\green192\\\\blue192;}\\r\\n\\r\\n\\r\\n\\\\pard\\\\fi0\\\\li0\\\\ql\\\\ri0\\\\sb0\\\\sa0\\\\itap0 \\\\plain \\\\f0\\\\fs22 Radiologerne har vurderet billederne, der er ikke tale om prolaps, men kun protrusion. \\r\\n\\\\par Der er indikation for\\\\tab \\\\tab \\\\tab rp.\\\\tab konservativ terapi\\r\\n\\\\par \\\\tab \\\\tab \\\\tab \\\\tab \\\\tab rp.\\\\tab journalkopi til egen l\\\\u230 \\\\'e6ge\\r\\n\\\\par \\\\tab \\\\tab \\\\tab \\\\tab \\\\tab \\\\tab \\\\tab Christian M\\\\u248 \\\\'f8ller/djo\\\\par}\""
      ]
     },
     "execution_count": 184,
     "metadata": {},
     "output_type": "execute_result"
    }
   ],
   "source": []
  },
  {
   "cell_type": "code",
   "execution_count": 162,
   "id": "d25e2c30-2e46-4576-b76f-b9ba3f9e3a57",
   "metadata": {},
   "outputs": [
    {
     "name": "stderr",
     "output_type": "stream",
     "text": [
      "/tmp/ipykernel_19900/2186940103.py:19: UserWarning: pandas only supports SQLAlchemy connectable (engine/connection) or database string URI or sqlite3 DBAPI2 connection. Other DBAPI2 objects are not tested. Please consider using SQLAlchemy.\n",
      "  res = sqlio.read_sql_query(query, conn)\n"
     ]
    }
   ],
   "source": [
    "def get_diagnostiknotat_count_and_diagnosis (params={\"host\":\"192.168.40.12\", \"database\":\"test_capio2\", \"user\":\"xcare\", \"password\":\"xcare\"}):\n",
    "    query = f\"\"\"\n",
    "        SELECT subselect.diagnose_id,\n",
    "        count(*) AS count\n",
    "        FROM \n",
    "        (\n",
    "            SELECT d.diagnostiknotat_id,\n",
    "            f2.diagnose_id,\n",
    "            d.diagnostiknotat_tekst as TEXT\n",
    "            FROM diagnostiknotat d\n",
    "            LEFT JOIN fokus f USING (fokus_id)\n",
    "            LEFT JOIN forloeb f2 using(forloeb_id)\n",
    "        ) AS subselect\n",
    "        GROUP BY subselect.diagnose_id\n",
    "        ORDER BY count desc\n",
    "        \"\"\".replace('\\n', '')\n",
    "\n",
    "    with psycopg2.connect(**params) as conn:\n",
    "        res = sqlio.read_sql_query(query, conn)\n",
    "        \n",
    "    return res\n",
    "\n",
    "res = get_diagnostiknotat_count_and_diagnosis()"
   ]
  },
  {
   "cell_type": "code",
   "execution_count": 161,
   "id": "89babadb",
   "metadata": {},
   "outputs": [
    {
     "data": {
      "text/html": [
       "<div>\n",
       "<style scoped>\n",
       "    .dataframe tbody tr th:only-of-type {\n",
       "        vertical-align: middle;\n",
       "    }\n",
       "\n",
       "    .dataframe tbody tr th {\n",
       "        vertical-align: top;\n",
       "    }\n",
       "\n",
       "    .dataframe thead th {\n",
       "        text-align: right;\n",
       "    }\n",
       "</style>\n",
       "<table border=\"1\" class=\"dataframe\">\n",
       "  <thead>\n",
       "    <tr style=\"text-align: right;\">\n",
       "      <th></th>\n",
       "      <th>diagnose_id</th>\n",
       "      <th>count</th>\n",
       "    </tr>\n",
       "  </thead>\n",
       "  <tbody>\n",
       "    <tr>\n",
       "      <th>0</th>\n",
       "      <td>0.0</td>\n",
       "      <td>1890452</td>\n",
       "    </tr>\n",
       "    <tr>\n",
       "      <th>1</th>\n",
       "      <td>3970629.0</td>\n",
       "      <td>102</td>\n",
       "    </tr>\n",
       "    <tr>\n",
       "      <th>2</th>\n",
       "      <td>2754969.0</td>\n",
       "      <td>100</td>\n",
       "    </tr>\n",
       "    <tr>\n",
       "      <th>3</th>\n",
       "      <td>4553258.0</td>\n",
       "      <td>78</td>\n",
       "    </tr>\n",
       "    <tr>\n",
       "      <th>4</th>\n",
       "      <td>2710270.0</td>\n",
       "      <td>77</td>\n",
       "    </tr>\n",
       "    <tr>\n",
       "      <th>...</th>\n",
       "      <td>...</td>\n",
       "      <td>...</td>\n",
       "    </tr>\n",
       "    <tr>\n",
       "      <th>507521</th>\n",
       "      <td>183216.0</td>\n",
       "      <td>1</td>\n",
       "    </tr>\n",
       "    <tr>\n",
       "      <th>507522</th>\n",
       "      <td>183224.0</td>\n",
       "      <td>1</td>\n",
       "    </tr>\n",
       "    <tr>\n",
       "      <th>507523</th>\n",
       "      <td>183276.0</td>\n",
       "      <td>1</td>\n",
       "    </tr>\n",
       "    <tr>\n",
       "      <th>507524</th>\n",
       "      <td>350165.0</td>\n",
       "      <td>1</td>\n",
       "    </tr>\n",
       "    <tr>\n",
       "      <th>507525</th>\n",
       "      <td>183338.0</td>\n",
       "      <td>1</td>\n",
       "    </tr>\n",
       "  </tbody>\n",
       "</table>\n",
       "<p>507526 rows × 2 columns</p>\n",
       "</div>"
      ],
      "text/plain": [
       "        diagnose_id    count\n",
       "0               0.0  1890452\n",
       "1         3970629.0      102\n",
       "2         2754969.0      100\n",
       "3         4553258.0       78\n",
       "4         2710270.0       77\n",
       "...             ...      ...\n",
       "507521     183216.0        1\n",
       "507522     183224.0        1\n",
       "507523     183276.0        1\n",
       "507524     350165.0        1\n",
       "507525     183338.0        1\n",
       "\n",
       "[507526 rows x 2 columns]"
      ]
     },
     "execution_count": 161,
     "metadata": {},
     "output_type": "execute_result"
    }
   ],
   "source": [
    "res"
   ]
  },
  {
   "cell_type": "code",
   "execution_count": 130,
   "id": "bcc52592",
   "metadata": {},
   "outputs": [
    {
     "data": {
      "text/plain": [
       "Text(0.5, 1.0, 'How many times have diagnoses been used?')"
      ]
     },
     "execution_count": 130,
     "metadata": {},
     "output_type": "execute_result"
    },
    {
     "data": {
      "image/png": "[encoded data removed]",
      "text/plain": [
       "<Figure size 640x480 with 1 Axes>"
      ]
     },
     "metadata": {},
     "output_type": "display_data"
    }
   ],
   "source": [
    "threshold = 10\n",
    "\n",
    "not_zero = res['diagnose_id'] != 0\n",
    "data = res['count']\n",
    "data_above = data[not_zero][data > threshold]\n",
    "data_below = data[not_zero][data <= threshold]\n",
    "undiagnosed = sum(data[not_zero == False])\n",
    "\n",
    "fig, ax = plt.subplots(1, 1)\n",
    "ax.loglog(data_above, '.g', label=f\"{sum(data_above)} diagnoses ({sum(data_above) / sum(data)*100:.0f}%)\")\n",
    "ax.loglog(data_below, '.r', label=f\"{sum(data_below)} diagnoses ({sum(data_below) / sum(data)*100:.0f}%)\")\n",
    "ax.axhline(threshold, color='black', label=f\"{undiagnosed} without diagnosis ({undiagnosed / sum(data)*100:.0f}%)\")\n",
    "ax.legend()\n",
    "ax.set_xlabel('Diagnosis')\n",
    "ax.set_ylabel('Nbr of times used')\n",
    "ax.set_title('How many times have diagnoses been used?')\n",
    "#fig.show()"
   ]
  },
  {
   "cell_type": "code",
   "execution_count": null,
   "id": "77535cff",
   "metadata": {},
   "outputs": [],
   "source": []
  },
  {
   "cell_type": "code",
   "execution_count": 7,
   "id": "b89cfaeb-cc51-46b1-86ec-a2c9f5ff33e3",
   "metadata": {
    "tags": []
   },
   "outputs": [
    {
     "data": {
      "text/plain": [
       "'\\nif __name__ == \\'__main__\\':\\n\\n    def get_treatments(n_lines=10):\\n        print(f\"Loading {n_lines} notes\")\\n        params = {\"host\":\"192.168.40.12\", \"database\":\"test_capio2\", \"user\":\"xcare\", \"password\":\"xcare\"}\\n\\n        query = fSELECT d.diagnostiknotat_id,\\n                b.focus_id,\\n                d.diagnostiknotat_tekst, \\n                string_agg(b.billingydelse_nummer, \\';\\') as billingydelse_numre\\n                FROM diagnostiknotat d \\n                JOIN billingydelse b ON b.focus_id = d.fokus_id \\n                WHERE d.created > \\'{date}\\'\\n                GROUP BY d.diagnostiknotat_id, d.diagnostiknotat_tekst, b.focus_id\\n                ORDER BY d.diagnostiknotat_id DESC\\n                .replace(\\'\\n\\', \\'\\')\\n\\n        with psycopg2.connect(**params) as conn:\\n\\n            with conn.cursor(cursor_factory=RealDictCursor) as cursor:\\n\\n                cursor.execute(query)\\n\\n                while True:\\n                    batch = cursor.fetchmany(batch_size)\\n                    if not batch:\\n                        break\\n\\n                    for row in batch:\\n                        try:\\n                            text = rtf_to_text(row[\\'diagnostiknotat_tekst\\'])\\n                            successes += 1\\n                            yield text\\n                        # except Exception as e:\\n                        except (UnicodeDecodeError, UnicodeEncodeError) as e:\\n                            # e = str(exc)\\n                            if e.reason in error_dict:\\n                                error_dict[e.reason] += 1\\n                            else:\\n                                error_dict[e.reason] = 1\\n                            errors = sum(error_dict.values())\\n                        if (successes + errors) % 5000 == 0:\\n                            print(f\"Iterated {successes + errors} notes, {errors} errors\")\\n        for k, v in error_dict.items():\\n            print(\" * \", k, v)\\n        print(f\"Found {successes + errors} lines (errors in {errors} lines | {errors / (successes + errors) * 100:.1f}% of data)\")\\n'"
      ]
     },
     "execution_count": 7,
     "metadata": {},
     "output_type": "execute_result"
    }
   ],
   "source": [
    "\"\"\"\n",
    "USE THIS TO GET BATCHING\n",
    "\"\"\"\n",
    "\"\"\"\n",
    "if __name__ == '__main__':\n",
    "\n",
    "    def get_treatments(n_lines=10):\n",
    "        print(f\"Loading {n_lines} notes\")\n",
    "        params = {\"host\":\"192.168.40.12\", \"database\":\"test_capio2\", \"user\":\"xcare\", \"password\":\"xcare\"}\n",
    "\n",
    "        query = f\"\"\"\"\"\"SELECT d.diagnostiknotat_id,\n",
    "                b.focus_id,\n",
    "                d.diagnostiknotat_tekst, \n",
    "                string_agg(b.billingydelse_nummer, ';') as billingydelse_numre\n",
    "                FROM diagnostiknotat d \n",
    "                JOIN billingydelse b ON b.focus_id = d.fokus_id \n",
    "                WHERE d.created > '{date}'\n",
    "                GROUP BY d.diagnostiknotat_id, d.diagnostiknotat_tekst, b.focus_id\n",
    "                ORDER BY d.diagnostiknotat_id DESC\n",
    "                \"\"\"\"\"\".replace('\\n', '')\n",
    "\n",
    "        with psycopg2.connect(**params) as conn:\n",
    "\n",
    "            with conn.cursor(cursor_factory=RealDictCursor) as cursor:\n",
    "\n",
    "                cursor.execute(query)\n",
    "\n",
    "                while True:\n",
    "                    batch = cursor.fetchmany(batch_size)\n",
    "                    if not batch:\n",
    "                        break\n",
    "\n",
    "                    for row in batch:\n",
    "                        try:\n",
    "                            text = rtf_to_text(row['diagnostiknotat_tekst'])\n",
    "                            successes += 1\n",
    "                            yield text\n",
    "                        # except Exception as e:\n",
    "                        except (UnicodeDecodeError, UnicodeEncodeError) as e:\n",
    "                            # e = str(exc)\n",
    "                            if e.reason in error_dict:\n",
    "                                error_dict[e.reason] += 1\n",
    "                            else:\n",
    "                                error_dict[e.reason] = 1\n",
    "                            errors = sum(error_dict.values())\n",
    "                        if (successes + errors) % 5000 == 0:\n",
    "                            print(f\"Iterated {successes + errors} notes, {errors} errors\")\n",
    "        for k, v in error_dict.items():\n",
    "            print(\" * \", k, v)\n",
    "        print(f\"Found {successes + errors} lines (errors in {errors} lines | {errors / (successes + errors) * 100:.1f}% of data)\")\n",
    "\"\"\""
   ]
  },
  {
   "cell_type": "code",
   "execution_count": null,
   "id": "0983d458-047b-4384-8e3a-5c7998968f95",
   "metadata": {},
   "outputs": [],
   "source": []
  }
 ],
 "metadata": {
  "kernelspec": {
   "display_name": "Python 3 (ipykernel)",
   "language": "python",
   "name": "python3"
  },
  "language_info": {
   "codemirror_mode": {
    "name": "ipython",
    "version": 3
   },
   "file_extension": ".py",
   "mimetype": "text/x-python",
   "name": "python",
   "nbconvert_exporter": "python",
   "pygments_lexer": "ipython3",
   "version": "3.10.9"
  }
 },
 "nbformat": 4,
 "nbformat_minor": 5
}
