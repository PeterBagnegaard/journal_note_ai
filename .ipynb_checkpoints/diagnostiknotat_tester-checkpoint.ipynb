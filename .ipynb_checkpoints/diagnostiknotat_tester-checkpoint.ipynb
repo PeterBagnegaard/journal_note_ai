{
 "cells": [
  {
   "cell_type": "code",
   "execution_count": 33,
   "id": "821d10aa",
   "metadata": {},
   "outputs": [],
   "source": [
    "%run data_lib.ipynb\n",
    "%run plot_lib.ipynb\n",
    "\n",
    "import numpy as np \n",
    "import matplotlib.pyplot as plt\n",
    "from transformers import AutoModelForSequenceClassification\n",
    "\n",
    "model_size = \"bert-base-multilingual-cased\"\n",
    "output_dir = \"test2\""
   ]
  },
  {
   "cell_type": "markdown",
   "id": "7e68f5b0",
   "metadata": {},
   "source": [
    "## Get trained model"
   ]
  },
  {
   "cell_type": "code",
   "execution_count": 150,
   "id": "23b611e6",
   "metadata": {},
   "outputs": [
    {
     "name": "stdout",
     "output_type": "stream",
     "text": [
      "Loading model checkpoint-81000\n"
     ]
    }
   ],
   "source": [
    "import os\n",
    "\n",
    "def to_cuda(inputs):\n",
    "    input_cuda = {}\n",
    "    for key in inputs.keys():\n",
    "        input_cuda[key] = inputs[key].to('cuda')\n",
    "    return input_cuda\n",
    "\n",
    "\n",
    "def get_interval(inputs, min_idx=0, max_idx=512):\n",
    "    new_inputs = {}\n",
    "    for key in inputs.keys():\n",
    "        new_inputs[key] = inputs[key][0, min_idx:max_idx].reshape([1, -1])\n",
    "    return new_inputs\n",
    "\n",
    "\n",
    "def get_trained_model():\n",
    "    file_paths = os.listdir(output_dir)\n",
    "    numbers = [int(file_path.split('-')[1]) for file_path in file_paths if file_path.startswith('checkpoint')]\n",
    "    last_path = file_paths[np.argmax(numbers)]\n",
    "    print(f\"Loading model {last_path}\")\n",
    "\n",
    "    trained_model = AutoModelForSequenceClassification.from_pretrained(os.path.join(output_dir, last_path))\n",
    "    trained_model.to('cuda')\n",
    "    return trained_model\n",
    "\n",
    "trained_model = get_trained_model()"
   ]
  },
  {
   "cell_type": "markdown",
   "id": "a555b74d",
   "metadata": {},
   "source": [
    "## Get data"
   ]
  },
  {
   "cell_type": "code",
   "execution_count": 3,
   "id": "d996800b",
   "metadata": {},
   "outputs": [
    {
     "name": "stderr",
     "output_type": "stream",
     "text": [
      "/tmp/ipykernel_3860/4026161246.py:19: UserWarning: pandas only supports SQLAlchemy connectable (engine/connection) or database string URI or sqlite3 DBAPI2 connection. Other DBAPI2 objects are not tested. Please consider using SQLAlchemy.\n",
      "  res = sqlio.read_sql_query(query, conn)\n"
     ]
    },
    {
     "name": "stdout",
     "output_type": "stream",
     "text": [
      "1000 rows fetched (1.3s)\n",
      "Preprocessing (0.0s)\n",
      "Stripping rich text format (0.3s)\n",
      "Removing 0 of 1000 rows (0.0%) where stripping failed (0.0s)\n",
      "Predicting 155 sks codes (0.0s)\n",
      "Converted sks codes to numpy arrays (0.0s)\n",
      "Removing 101 of 1000 empty rows (10.1%) (0.0s)\n"
     ]
    },
    {
     "name": "stderr",
     "output_type": "stream",
     "text": [
      "/home/bagnegaard/anaconda3/lib/python3.10/site-packages/pyarrow/pandas_compat.py:373: FutureWarning: is_sparse is deprecated and will be removed in a future version. Check `isinstance(dtype, pd.SparseDtype)` instead.\n",
      "  if _pandas_api.is_sparse(col):\n"
     ]
    }
   ],
   "source": [
    "data, converter = get_diagnostiknotat_data(limit=1000, sks_count_threshold=100, verbose=1)"
   ]
  },
  {
   "cell_type": "markdown",
   "id": "d7ea0381",
   "metadata": {},
   "source": [
    "## Get tokenizer and tokenize data"
   ]
  },
  {
   "cell_type": "code",
   "execution_count": 51,
   "id": "bb1aee1f",
   "metadata": {},
   "outputs": [
    {
     "data": {
      "text/plain": [
       "'\\nfrom transformers import AutoTokenizer\\n\\ntokenizer = AutoTokenizer.from_pretrained(model_size)\\n\\n\\ndef tokenize_function(examples):\\n    return tokenizer(examples[\"text\"], padding=\"max_length\", truncation=True)\\n\\n\\ntokenized_datasets = data.map(tokenize_function, batched=True)\\n'"
      ]
     },
     "execution_count": 51,
     "metadata": {},
     "output_type": "execute_result"
    }
   ],
   "source": [
    "\"\"\"\n",
    "from transformers import AutoTokenizer\n",
    "\n",
    "tokenizer = AutoTokenizer.from_pretrained(model_size)\n",
    "\n",
    "\n",
    "def tokenize_function(examples):\n",
    "    return tokenizer(examples[\"text\"], padding=\"max_length\", truncation=True)\n",
    "\n",
    "\n",
    "tokenized_datasets = data.map(tokenize_function, batched=True)\n",
    "\"\"\""
   ]
  },
  {
   "cell_type": "markdown",
   "id": "740e7d51",
   "metadata": {},
   "source": [
    "## Make prediction"
   ]
  },
  {
   "cell_type": "code",
   "execution_count": 54,
   "id": "28bd8cb9",
   "metadata": {},
   "outputs": [
    {
     "name": "stdout",
     "output_type": "stream",
     "text": [
      "!!!!!!!!!!!!!!!!!!!!!!!!!!!!!!!!!!!!!!!!!!!!!!!!!!!!!!\n",
      "[WARNING] 70% of the text has been truncated [WARNING]\n",
      "!!!!!!!!!!!!!!!!!!!!!!!!!!!!!!!!!!!!!!!!!!!!!!!!!!!!!!\n",
      "\n",
      "<b>02.01.2020</b> 1. konsultation AAF22 Ambulant besøg  + ALFC2 hovedfunktionsniveau DM759 Skulderlidelse UNS Kommer til svar på skanningen, som viser AC-leds hypertrofi med ødemforandringer og diskrete forandringer til posteriore labrum.  Ingen tegn på læsion.  Vi drøfter blokadebehandling, men patienten er kun til udredning via Regionens aftale her. Derfor AFSLUTTES  patienten. Han kan eventuelt få blokade via egen læge eller på OUH.  Thomas Haller <b>20.12.2019</b> MR-beskrivelse UXMF10 MR-skanning af skulder  + ALFC2 hovedfunktionsniveau  + TUL2 venstresidig  + UXZ11 uden i.v. kontrast Patienten er informeret skriftligt og mundtligt om undersøgelsen og accepterer denne \t\t\t\t\t\t\t\t\t\t\t\t/vagthavende radiograf MR skanning af venstre skulder viser, betydelig hypertrofi af AC leddet med diskrete ødemforandringer i articulationsfladerne, samt ødem i kapslen og let grad af effusion i AC leddet. Type 4 acromion uden indtryk af significant impingement på supra- eller infraspinatussenerne med intakte sener, præget af diskrete signalforandringer ved muskulotendinøse overgang af infraspinatussenen med fortsat intakt sene og muskel. Der ses mindre flad og aflang ansamling klos på post. fossa i højde med kl. 9-10 med diskrete signalforandringer i post. labrum i samme område, uden mistanke om gennemgående læsioner eller paralabral cystedannelse. Må repræsentere posttraumatisk ansamling i området. Biceps samt subscapularissenerne er intakte. Ingen ansamling i bursa. Konklusion Hypertrofi af AC leddet med ødemforandringer i articulationsfladerne samt i kapslen samt type 4 acromion. Mindre flad og aflang ansamling klos på posteriore kant af fossa kl. ca. 9-10 - se venligst tekst. Zoreh Rasti <b>19.12.2019</b> Forundersøgelse AAF21 Førstegangsbesøg  + ALFC2 hovedfunktionsniveau DM759 Skulderlidelse UNS  + TUL2 venstresidig Kommer til vurdering af venstre skulder. <b>Anamnese</b> 28. september direkte faldtraume under håndbold på venstre side. På grund af smerter i venstre skulder bliver han først behandlet på Skadestuen, OUH, hvor man også laver røntgen, som viser normale forhold.  Grundet vedvarende gener efter 3 uger laves der kontrol og patienten afsluttes.  Der er stadig ingen bedring af smertesituationen, hvorfor patienten er henvist hertil som Regionspatient til videre udredning. Ingen tidligere skulderanamnese. <b>Objektivt</b> Prominent venstresidigt AC-led. Ingen smerter på højre side. Har normal bevægelighed i columna cervicalis. I venstre skulder er der god bevægelighed. Abduktion / fleksion af arm 160 gr. Indadrotation 80 gr. Udadrotation 60 gr.  Har smerter ved cross-over test og ved test af Rotator Cuff.  Normal kraft ved håndtryk.  Rp. MR-skanning til vurdering af forholdene, især AC-leddet og subakromiale forhold samt Rotator Cuff.  Ses igen, når svaret foreligger.  Thomas Haller \n",
      "====================================================================================================\n",
      "AAF22 - Ambulant besøg\n",
      "DM759 - Skulderlidelse UNS\n",
      "====================================================================================================\n"
     ]
    },
    {
     "data": {
      "application/vnd.plotly.v1+json": {
       "config": {
        "plotlyServerURL": "https://plot.ly"
       },
       "data": [
        {
         "hovertext": [
          "Kontakt mhp radiologisk undersøgelse",
          "Førstegangsbesøg",
          "UL-undersøgelse af mamma",
          "Klinisk mammografi",
          "MR-skanning af columna lumbalis",
          "Ambulant besøg",
          "Telefonkonsultation",
          "UL-undersøgelse af thoraxvæg og axil, inkl. periclaviculær",
          "MR-skanning af knæ",
          "Klinisk undersøgelse",
          "Kontrolbesøg",
          "Obs. pga mistanke om sygdom eller tilstand UNS",
          "MR-skanning af cerebrum",
          "MR-skanning af columna cervicalis",
          "Skulderlidelse UNS",
          "Primær enkeltsidig knæledsartrose",
          "Spinalstenose",
          "Primær enkeltsidig hofteledsartrose",
          "Smerter UNS",
          "Lændesmerter UNS",
          "Terapeutisk steroidinjektion i led på overekstremitet",
          "UL-undersøgelse af skulder",
          "Knæledslidelse UNS",
          "MR-skanning af skulder",
          "Brystkræft: udredning start, første fremmøde",
          "Ingvinalhernie UNS uden ileus eller gangræn",
          "Terapeutisk steroidinjektion i led på underekstremitet",
          "MR-skanning af mellemøre",
          "Ekstremitetssmerter",
          "Brystkræft: pakkeforløb slut, diagnose afkræftet",
          "MR-skanning af columna thoracalis",
          "Elektronisk kontakt med klinisk sigte",
          "Søvnapnø",
          "Kontakt mhp ultralydsundersøgelse",
          "Primær dobbeltsidig knæledsartrose",
          "Afklemningssyndrom i skulder",
          "Implantat indsat",
          "Undersøgelse af hud med dermatoskop",
          "ENG/EMG almen",
          "Vandladningsbesvær UNS",
          "Grovnålsbiopsi af bryst",
          "Obs. pga mistanke om sygdom i nervesystem",
          "Karpaltunnelsyndrom",
          "Kontrolundersøgelse efter operation af anden tilstand",
          "Røntgenundersøgelse af knæ",
          "Ledsmerter",
          "Rygsmerter UNS",
          "Udlevering/forsendelse af tilbehør",
          "Rotator cuff-syndrom",
          "MR-skanning af hofteled",
          "UL-undersøgelse af urinblæren",
          "Traumatisk ruptur af menisk i knæled",
          "Brevsvar vedrørende konkret undersøgelse",
          "Osteodensitometri, dual X-ray absorptiometri, columna lumb.",
          "MR-skanning af fodled",
          "Osteodensitometri, dual X-ray absorptiometri af collum fem.",
          "UL-undersøgelse af øvre abdomen",
          "Stuegang",
          "Laparoskopisk operation for ingvinalhernie",
          "Røntgenundersøgelse af fod og tæer",
          "Prostatahypertrofi",
          "Phimosis",
          "Dekompression af lumbal spinalkanal og nerverod",
          "CT-skanning af thorax",
          "Artroskop. resekt., intraart. eksostose/osteofyt, skulderled",
          "UL-undersøgelse af hofte",
          "Uroflowmetri",
          "Primær dobbeltsidig hofteledsartrose",
          "Røntgenundersøgelse af hofte",
          "Apnø-hypopnø indeks (AHI)",
          "Gammel menisklæsion",
          "ENG/EMG speciel (< 2 timer)",
          "Punktur og aspiration af cyste i bryst",
          "Røntgenundersøgelse af hånd og fingre",
          "Transvaginal UL-undersøgelse af genitalia feminina",
          "Generel anæstesi",
          "Diagnostisk blokade",
          "UL-undersøgelse af scrotum",
          "Kontrol af CPAP-behandling",
          "Gynækologisk undersøgelse",
          "CPAP Compliance aflæst på CPAP-apparatur",
          "Epworth Sleepiness Scale (ESS)",
          "Primær indsættelse af ucementeret totalprotese i hofteled",
          "Anoskopi",
          "Røntgenundersøgelse af columna lumbalis",
          "MR-skanning af fod og tæer",
          "Røntgenundersøgelse af thorax",
          "Symptom i nervesystemet UNS",
          "Umbilikalhernie uden ileus eller gangræn",
          "Artroskopisk partiel resektion af menisk i knæled",
          "MR-skanning af os sacrum",
          "Reumatisme UNS",
          "Primær indsættelse af cementeret totalprotese i knæled",
          "Lumbal diskusprolaps IV/V med radikulopati",
          "Periarthrosis humeroscapularis",
          "Dekompression af lumbal nerverod",
          "Ryglidelse UNS",
          "Læsion af korsbånd i knæled",
          "Generel pleje ved lidelse i hud og underhud",
          "Åben operation for lumbal diskusprolaps",
          "MR-skanning af håndled",
          "Nyresten UNS",
          "Spondylolistese",
          "Lumbosakral diskusprolaps med radikulopati",
          "MR-skanning af bækken, inkl. begge hofteled",
          "Cervikale rygsmerter",
          "Knæledsartrose UNS",
          "Sten i galdeblæren uden kolecystitis",
          "Røntgenundersøgelse af bækken",
          "UL-undersøgelse af fod",
          "Videokonsultation",
          "Primær indsættelse af hybrid totalprotese i hofteled",
          "Spondylose med radikulopati",
          "UL-undersøgelse af nedre abdomen",
          "CT-skanning af nyrer",
          "Lumbal eller torakal diskusprolaps med radikulopati",
          "Blefarokalasi",
          "Cystoskopi",
          "Residualurin måling",
          "UL-undersøgelse af fodled",
          "Hofteledsartrose UNS",
          "MR-skanning af sakroiliakaled",
          "Tangential røntgenundersøgelse af patella",
          "E-mail konsultation",
          "Erhvervet hallux valgus",
          "MR-skanning af fossa posterior",
          "Primær indsættelse af ucementeret totalprotese i knæled",
          "Primær indsættelse af medial ucementeret delprotese i knæled",
          "Mamma tomosyntese, klinisk",
          "Cervikal diskusprolaps med radikulopati",
          "Røntgenundersøgelse af håndled",
          "Dupuytrens kontraktur",
          "Springfinger",
          "Kontakt mhp plastikkirurgisk efterbehandling af bryst",
          "Ganglion",
          "Phimosisoperation",
          "Kvantitativ UL / Doppler-undersøgelse af halsarterier",
          "Distorsion af anden el. ikke specificeret struktur i knæled",
          "UL-undersøgelse af knæ",
          "Hydrocele UNS",
          "Primær artrose i andet (andre) led",
          "Transuretral prostataresektion (TUR-P)",
          "MR-skanning af columna",
          "Terapeutisk blokade i led og bløddele på overekstremitet",
          "Røntgenundersøgelse af skulder",
          "Følgetilstand efter luksation eller distorsion i arm",
          "Anden torakal eller lumbal diskusdegeneration",
          "CT-skanning af nedre abdomen, inkl. bækken",
          "Brystkræft: henvisning til pakkeforløb start",
          "Grad 3 hæmorider",
          "Nævus UNS",
          "UL-undersøgelse af prostata, inkl. transrektal skanning",
          "Bageste spondylodese u. fiksation i columna lumbalis",
          "MR-skanning af hånd og fingre",
          "An. bløddelsgigt opstået v. belastning, overbelastning, tryk"
         ],
         "marker": {
          "color": "black"
         },
         "name": "Predicted SKS code",
         "type": "bar",
         "width": 0.5,
         "x": [
          0,
          1,
          2,
          3,
          4,
          5,
          6,
          7,
          8,
          9,
          10,
          11,
          12,
          13,
          14,
          15,
          16,
          17,
          18,
          19,
          20,
          21,
          22,
          23,
          24,
          25,
          26,
          27,
          28,
          29,
          30,
          31,
          32,
          33,
          34,
          35,
          36,
          37,
          38,
          39,
          40,
          41,
          42,
          43,
          44,
          45,
          46,
          47,
          48,
          49,
          50,
          51,
          52,
          53,
          54,
          55,
          56,
          57,
          58,
          59,
          60,
          61,
          62,
          63,
          64,
          65,
          66,
          67,
          68,
          69,
          70,
          71,
          72,
          73,
          74,
          75,
          76,
          77,
          78,
          79,
          80,
          81,
          82,
          83,
          84,
          85,
          86,
          87,
          88,
          89,
          90,
          91,
          92,
          93,
          94,
          95,
          96,
          97,
          98,
          99,
          100,
          101,
          102,
          103,
          104,
          105,
          106,
          107,
          108,
          109,
          110,
          111,
          112,
          113,
          114,
          115,
          116,
          117,
          118,
          119,
          120,
          121,
          122,
          123,
          124,
          125,
          126,
          127,
          128,
          129,
          130,
          131,
          132,
          133,
          134,
          135,
          136,
          137,
          138,
          139,
          140,
          141,
          142,
          143,
          144,
          145,
          146,
          147,
          148,
          149,
          150,
          151,
          152,
          153,
          154
         ],
         "y": [
          -3.4964385,
          -7.774822,
          -7.6365075,
          -6.7050924,
          -9.645045,
          4.637604,
          -5.495218,
          -8.572933,
          -7.8609204,
          -8.7597,
          -6.996956,
          -6.1571326,
          -8.965261,
          -9.920138,
          3.3723958,
          -6.699376,
          -8.852759,
          -8.238546,
          -7.4555244,
          -8.762936,
          -5.0625997,
          -6.3773203,
          -6.0960083,
          -6.0620003,
          -10.717833,
          -8.483312,
          -10.751722,
          -9.140893,
          -6.588558,
          -9.912946,
          -9.435998,
          -5.87269,
          -6.4157543,
          -9.547895,
          -8.260947,
          -5.22755,
          -6.7922373,
          -8.526238,
          -11.569108,
          -6.0442247,
          -5.686367,
          -9.2468815,
          -9.496037,
          -6.6956005,
          -10.040158,
          -7.2081656,
          -7.7104883,
          -6.9898643,
          -4.4652767,
          -7.221984,
          -9.9438505,
          -7.7235856,
          -9.326137,
          -10.805063,
          -8.141334,
          -11.463494,
          -9.194613,
          -9.725002,
          -11.996997,
          -11.086341,
          -7.1343865,
          -8.371857,
          -10.114055,
          -9.7966585,
          -5.3622713,
          -11.595344,
          -9.930515,
          -10.219508,
          -9.9223385,
          -10.520354,
          -8.988456,
          -9.933605,
          -8.64027,
          -9.64972,
          -9.686708,
          -8.187807,
          -7.847183,
          -13.039539,
          -9.895856,
          -9.858714,
          -10.015378,
          -10.119781,
          -10.436241,
          -9.047623,
          -9.249258,
          -10.775928,
          -10.461262,
          -8.748018,
          -9.320583,
          -11.338403,
          -12.165231,
          -7.481949,
          -9.841274,
          -8.439684,
          -4.8786464,
          -8.912261,
          -7.404556,
          -6.526079,
          -8.817968,
          -8.889319,
          -9.292085,
          -9.880611,
          -9.064869,
          -8.608097,
          -7.8978887,
          -7.7455654,
          -7.0885053,
          -9.501843,
          -10.691543,
          -11.357329,
          -5.0662775,
          -10.263088,
          -7.261108,
          -8.762002,
          -9.954822,
          -7.81612,
          -8.866315,
          -7.3691854,
          -9.370776,
          -10.737191,
          -9.4649725,
          -11.093746,
          -10.249046,
          -6.3981457,
          -11.349984,
          -10.646959,
          -9.405634,
          -8.157425,
          -9.798824,
          -7.8570976,
          -10.0358305,
          -8.745049,
          -9.798764,
          -8.565689,
          -10.384144,
          -9.523628,
          -9.581131,
          -5.8795466,
          -11.541477,
          -12.204349,
          -6.9592695,
          -8.62435,
          -10.310597,
          -7.4913526,
          -6.916582,
          -6.6405187,
          -8.393917,
          -8.496498,
          -8.162764,
          -8.190627,
          -8.207845,
          -8.8583555,
          -9.630338,
          -9.737332,
          -7.2908373
         ]
        },
        {
         "hovertext": [
          "Ambulant besøg",
          "Skulderlidelse UNS"
         ],
         "marker": {
          "color": "red"
         },
         "name": "True SKS code",
         "type": "bar",
         "width": 0.5,
         "x": [
          5,
          14
         ],
         "y": [
          4.637604,
          3.3723958
         ]
        }
       ],
       "layout": {
        "barmode": "overlay",
        "template": {
         "data": {
          "bar": [
           {
            "error_x": {
             "color": "#2a3f5f"
            },
            "error_y": {
             "color": "#2a3f5f"
            },
            "marker": {
             "line": {
              "color": "#E5ECF6",
              "width": 0.5
             },
             "pattern": {
              "fillmode": "overlay",
              "size": 10,
              "solidity": 0.2
             }
            },
            "type": "bar"
           }
          ],
          "barpolar": [
           {
            "marker": {
             "line": {
              "color": "#E5ECF6",
              "width": 0.5
             },
             "pattern": {
              "fillmode": "overlay",
              "size": 10,
              "solidity": 0.2
             }
            },
            "type": "barpolar"
           }
          ],
          "carpet": [
           {
            "aaxis": {
             "endlinecolor": "#2a3f5f",
             "gridcolor": "white",
             "linecolor": "white",
             "minorgridcolor": "white",
             "startlinecolor": "#2a3f5f"
            },
            "baxis": {
             "endlinecolor": "#2a3f5f",
             "gridcolor": "white",
             "linecolor": "white",
             "minorgridcolor": "white",
             "startlinecolor": "#2a3f5f"
            },
            "type": "carpet"
           }
          ],
          "choropleth": [
           {
            "colorbar": {
             "outlinewidth": 0,
             "ticks": ""
            },
            "type": "choropleth"
           }
          ],
          "contour": [
           {
            "colorbar": {
             "outlinewidth": 0,
             "ticks": ""
            },
            "colorscale": [
             [
              0,
              "#0d0887"
             ],
             [
              0.1111111111111111,
              "#46039f"
             ],
             [
              0.2222222222222222,
              "#7201a8"
             ],
             [
              0.3333333333333333,
              "#9c179e"
             ],
             [
              0.4444444444444444,
              "#bd3786"
             ],
             [
              0.5555555555555556,
              "#d8576b"
             ],
             [
              0.6666666666666666,
              "#ed7953"
             ],
             [
              0.7777777777777778,
              "#fb9f3a"
             ],
             [
              0.8888888888888888,
              "#fdca26"
             ],
             [
              1,
              "#f0f921"
             ]
            ],
            "type": "contour"
           }
          ],
          "contourcarpet": [
           {
            "colorbar": {
             "outlinewidth": 0,
             "ticks": ""
            },
            "type": "contourcarpet"
           }
          ],
          "heatmap": [
           {
            "colorbar": {
             "outlinewidth": 0,
             "ticks": ""
            },
            "colorscale": [
             [
              0,
              "#0d0887"
             ],
             [
              0.1111111111111111,
              "#46039f"
             ],
             [
              0.2222222222222222,
              "#7201a8"
             ],
             [
              0.3333333333333333,
              "#9c179e"
             ],
             [
              0.4444444444444444,
              "#bd3786"
             ],
             [
              0.5555555555555556,
              "#d8576b"
             ],
             [
              0.6666666666666666,
              "#ed7953"
             ],
             [
              0.7777777777777778,
              "#fb9f3a"
             ],
             [
              0.8888888888888888,
              "#fdca26"
             ],
             [
              1,
              "#f0f921"
             ]
            ],
            "type": "heatmap"
           }
          ],
          "heatmapgl": [
           {
            "colorbar": {
             "outlinewidth": 0,
             "ticks": ""
            },
            "colorscale": [
             [
              0,
              "#0d0887"
             ],
             [
              0.1111111111111111,
              "#46039f"
             ],
             [
              0.2222222222222222,
              "#7201a8"
             ],
             [
              0.3333333333333333,
              "#9c179e"
             ],
             [
              0.4444444444444444,
              "#bd3786"
             ],
             [
              0.5555555555555556,
              "#d8576b"
             ],
             [
              0.6666666666666666,
              "#ed7953"
             ],
             [
              0.7777777777777778,
              "#fb9f3a"
             ],
             [
              0.8888888888888888,
              "#fdca26"
             ],
             [
              1,
              "#f0f921"
             ]
            ],
            "type": "heatmapgl"
           }
          ],
          "histogram": [
           {
            "marker": {
             "pattern": {
              "fillmode": "overlay",
              "size": 10,
              "solidity": 0.2
             }
            },
            "type": "histogram"
           }
          ],
          "histogram2d": [
           {
            "colorbar": {
             "outlinewidth": 0,
             "ticks": ""
            },
            "colorscale": [
             [
              0,
              "#0d0887"
             ],
             [
              0.1111111111111111,
              "#46039f"
             ],
             [
              0.2222222222222222,
              "#7201a8"
             ],
             [
              0.3333333333333333,
              "#9c179e"
             ],
             [
              0.4444444444444444,
              "#bd3786"
             ],
             [
              0.5555555555555556,
              "#d8576b"
             ],
             [
              0.6666666666666666,
              "#ed7953"
             ],
             [
              0.7777777777777778,
              "#fb9f3a"
             ],
             [
              0.8888888888888888,
              "#fdca26"
             ],
             [
              1,
              "#f0f921"
             ]
            ],
            "type": "histogram2d"
           }
          ],
          "histogram2dcontour": [
           {
            "colorbar": {
             "outlinewidth": 0,
             "ticks": ""
            },
            "colorscale": [
             [
              0,
              "#0d0887"
             ],
             [
              0.1111111111111111,
              "#46039f"
             ],
             [
              0.2222222222222222,
              "#7201a8"
             ],
             [
              0.3333333333333333,
              "#9c179e"
             ],
             [
              0.4444444444444444,
              "#bd3786"
             ],
             [
              0.5555555555555556,
              "#d8576b"
             ],
             [
              0.6666666666666666,
              "#ed7953"
             ],
             [
              0.7777777777777778,
              "#fb9f3a"
             ],
             [
              0.8888888888888888,
              "#fdca26"
             ],
             [
              1,
              "#f0f921"
             ]
            ],
            "type": "histogram2dcontour"
           }
          ],
          "mesh3d": [
           {
            "colorbar": {
             "outlinewidth": 0,
             "ticks": ""
            },
            "type": "mesh3d"
           }
          ],
          "parcoords": [
           {
            "line": {
             "colorbar": {
              "outlinewidth": 0,
              "ticks": ""
             }
            },
            "type": "parcoords"
           }
          ],
          "pie": [
           {
            "automargin": true,
            "type": "pie"
           }
          ],
          "scatter": [
           {
            "fillpattern": {
             "fillmode": "overlay",
             "size": 10,
             "solidity": 0.2
            },
            "type": "scatter"
           }
          ],
          "scatter3d": [
           {
            "line": {
             "colorbar": {
              "outlinewidth": 0,
              "ticks": ""
             }
            },
            "marker": {
             "colorbar": {
              "outlinewidth": 0,
              "ticks": ""
             }
            },
            "type": "scatter3d"
           }
          ],
          "scattercarpet": [
           {
            "marker": {
             "colorbar": {
              "outlinewidth": 0,
              "ticks": ""
             }
            },
            "type": "scattercarpet"
           }
          ],
          "scattergeo": [
           {
            "marker": {
             "colorbar": {
              "outlinewidth": 0,
              "ticks": ""
             }
            },
            "type": "scattergeo"
           }
          ],
          "scattergl": [
           {
            "marker": {
             "colorbar": {
              "outlinewidth": 0,
              "ticks": ""
             }
            },
            "type": "scattergl"
           }
          ],
          "scattermapbox": [
           {
            "marker": {
             "colorbar": {
              "outlinewidth": 0,
              "ticks": ""
             }
            },
            "type": "scattermapbox"
           }
          ],
          "scatterpolar": [
           {
            "marker": {
             "colorbar": {
              "outlinewidth": 0,
              "ticks": ""
             }
            },
            "type": "scatterpolar"
           }
          ],
          "scatterpolargl": [
           {
            "marker": {
             "colorbar": {
              "outlinewidth": 0,
              "ticks": ""
             }
            },
            "type": "scatterpolargl"
           }
          ],
          "scatterternary": [
           {
            "marker": {
             "colorbar": {
              "outlinewidth": 0,
              "ticks": ""
             }
            },
            "type": "scatterternary"
           }
          ],
          "surface": [
           {
            "colorbar": {
             "outlinewidth": 0,
             "ticks": ""
            },
            "colorscale": [
             [
              0,
              "#0d0887"
             ],
             [
              0.1111111111111111,
              "#46039f"
             ],
             [
              0.2222222222222222,
              "#7201a8"
             ],
             [
              0.3333333333333333,
              "#9c179e"
             ],
             [
              0.4444444444444444,
              "#bd3786"
             ],
             [
              0.5555555555555556,
              "#d8576b"
             ],
             [
              0.6666666666666666,
              "#ed7953"
             ],
             [
              0.7777777777777778,
              "#fb9f3a"
             ],
             [
              0.8888888888888888,
              "#fdca26"
             ],
             [
              1,
              "#f0f921"
             ]
            ],
            "type": "surface"
           }
          ],
          "table": [
           {
            "cells": {
             "fill": {
              "color": "#EBF0F8"
             },
             "line": {
              "color": "white"
             }
            },
            "header": {
             "fill": {
              "color": "#C8D4E3"
             },
             "line": {
              "color": "white"
             }
            },
            "type": "table"
           }
          ]
         },
         "layout": {
          "annotationdefaults": {
           "arrowcolor": "#2a3f5f",
           "arrowhead": 0,
           "arrowwidth": 1
          },
          "autotypenumbers": "strict",
          "coloraxis": {
           "colorbar": {
            "outlinewidth": 0,
            "ticks": ""
           }
          },
          "colorscale": {
           "diverging": [
            [
             0,
             "#8e0152"
            ],
            [
             0.1,
             "#c51b7d"
            ],
            [
             0.2,
             "#de77ae"
            ],
            [
             0.3,
             "#f1b6da"
            ],
            [
             0.4,
             "#fde0ef"
            ],
            [
             0.5,
             "#f7f7f7"
            ],
            [
             0.6,
             "#e6f5d0"
            ],
            [
             0.7,
             "#b8e186"
            ],
            [
             0.8,
             "#7fbc41"
            ],
            [
             0.9,
             "#4d9221"
            ],
            [
             1,
             "#276419"
            ]
           ],
           "sequential": [
            [
             0,
             "#0d0887"
            ],
            [
             0.1111111111111111,
             "#46039f"
            ],
            [
             0.2222222222222222,
             "#7201a8"
            ],
            [
             0.3333333333333333,
             "#9c179e"
            ],
            [
             0.4444444444444444,
             "#bd3786"
            ],
            [
             0.5555555555555556,
             "#d8576b"
            ],
            [
             0.6666666666666666,
             "#ed7953"
            ],
            [
             0.7777777777777778,
             "#fb9f3a"
            ],
            [
             0.8888888888888888,
             "#fdca26"
            ],
            [
             1,
             "#f0f921"
            ]
           ],
           "sequentialminus": [
            [
             0,
             "#0d0887"
            ],
            [
             0.1111111111111111,
             "#46039f"
            ],
            [
             0.2222222222222222,
             "#7201a8"
            ],
            [
             0.3333333333333333,
             "#9c179e"
            ],
            [
             0.4444444444444444,
             "#bd3786"
            ],
            [
             0.5555555555555556,
             "#d8576b"
            ],
            [
             0.6666666666666666,
             "#ed7953"
            ],
            [
             0.7777777777777778,
             "#fb9f3a"
            ],
            [
             0.8888888888888888,
             "#fdca26"
            ],
            [
             1,
             "#f0f921"
            ]
           ]
          },
          "colorway": [
           "#636efa",
           "#EF553B",
           "#00cc96",
           "#ab63fa",
           "#FFA15A",
           "#19d3f3",
           "#FF6692",
           "#B6E880",
           "#FF97FF",
           "#FECB52"
          ],
          "font": {
           "color": "#2a3f5f"
          },
          "geo": {
           "bgcolor": "white",
           "lakecolor": "white",
           "landcolor": "#E5ECF6",
           "showlakes": true,
           "showland": true,
           "subunitcolor": "white"
          },
          "hoverlabel": {
           "align": "left"
          },
          "hovermode": "closest",
          "mapbox": {
           "style": "light"
          },
          "paper_bgcolor": "white",
          "plot_bgcolor": "#E5ECF6",
          "polar": {
           "angularaxis": {
            "gridcolor": "white",
            "linecolor": "white",
            "ticks": ""
           },
           "bgcolor": "#E5ECF6",
           "radialaxis": {
            "gridcolor": "white",
            "linecolor": "white",
            "ticks": ""
           }
          },
          "scene": {
           "xaxis": {
            "backgroundcolor": "#E5ECF6",
            "gridcolor": "white",
            "gridwidth": 2,
            "linecolor": "white",
            "showbackground": true,
            "ticks": "",
            "zerolinecolor": "white"
           },
           "yaxis": {
            "backgroundcolor": "#E5ECF6",
            "gridcolor": "white",
            "gridwidth": 2,
            "linecolor": "white",
            "showbackground": true,
            "ticks": "",
            "zerolinecolor": "white"
           },
           "zaxis": {
            "backgroundcolor": "#E5ECF6",
            "gridcolor": "white",
            "gridwidth": 2,
            "linecolor": "white",
            "showbackground": true,
            "ticks": "",
            "zerolinecolor": "white"
           }
          },
          "shapedefaults": {
           "line": {
            "color": "#2a3f5f"
           }
          },
          "ternary": {
           "aaxis": {
            "gridcolor": "white",
            "linecolor": "white",
            "ticks": ""
           },
           "baxis": {
            "gridcolor": "white",
            "linecolor": "white",
            "ticks": ""
           },
           "bgcolor": "#E5ECF6",
           "caxis": {
            "gridcolor": "white",
            "linecolor": "white",
            "ticks": ""
           }
          },
          "title": {
           "x": 0.05
          },
          "xaxis": {
           "automargin": true,
           "gridcolor": "white",
           "linecolor": "white",
           "ticks": "",
           "title": {
            "standoff": 15
           },
           "zerolinecolor": "white",
           "zerolinewidth": 2
          },
          "yaxis": {
           "automargin": true,
           "gridcolor": "white",
           "linecolor": "white",
           "ticks": "",
           "title": {
            "standoff": 15
           },
           "zerolinecolor": "white",
           "zerolinewidth": 2
          }
         }
        },
        "xaxis": {
         "tickangle": 90,
         "tickmode": "array",
         "ticktext": [
          "DZ016",
          "AAF21",
          "UXUC40",
          "UXRC40",
          "UXME30",
          "AAF22",
          "BVAA33A",
          "UXUC10",
          "UXMG25",
          "ZZ0149",
          "AAF23",
          "DZ039",
          "UXMA00",
          "UXME10",
          "DM759",
          "DM171",
          "DM480",
          "DM161",
          "DR529",
          "DM545",
          "BLHN00",
          "UXUF15",
          "DM239",
          "UXMF10",
          "AFB01B",
          "DK409",
          "BLHN01",
          "UXMA16",
          "DM796",
          "AFB01X1",
          "UXME20",
          "BVAA33",
          "DG473",
          "DZ016U",
          "DM170",
          "DM754",
          "KWAA01",
          "ZZ5250",
          "UCGG00",
          "DR391",
          "KTHA10C",
          "DZ033",
          "DG560",
          "DZ090",
          "UXRG25",
          "DM255",
          "DM549",
          "ZZ3917",
          "DM751",
          "UXMG15",
          "UXUD75",
          "DS832",
          "BVAC10",
          "UXRE80",
          "UXMG40",
          "UXRG80",
          "UXUD10",
          "AAF84",
          "KJAB11",
          "UXRG50",
          "DN409",
          "DN479D",
          "KABC56",
          "UXCC00",
          "KNBH51",
          "UXUG15",
          "ZZ1280",
          "DM160",
          "UXRG15",
          "ZZV020B",
          "DM232",
          "UCGG01",
          "KTHA30",
          "UXRF50",
          "UXUD82",
          "NAAC",
          "ZZ1220",
          "UXUD95",
          "ZZ3912",
          "ZZ4190",
          "ZZV020A",
          "ZZV020D",
          "KNFB20",
          "KUJH02",
          "UXRE30",
          "UXMG50",
          "UXRC00",
          "DR298A",
          "DK429",
          "KNGD11",
          "UXME50",
          "DM790",
          "KNGB40",
          "DM511D",
          "DM750",
          "KABC36",
          "DM539",
          "DS835",
          "BNVA",
          "KABC26",
          "UXMF40",
          "DN200",
          "DM431",
          "DM511E",
          "UXMG10",
          "DM542",
          "DM179",
          "DK802",
          "UXRG10",
          "UXUG50",
          "BVAA33D",
          "KNFB30",
          "DM472A",
          "UXUD15",
          "UXCD60",
          "DM511",
          "DH023",
          "KUKC02",
          "ZZ1291",
          "UXUG40",
          "DM169",
          "UXMG11",
          "UXRG27",
          "BVAA33B",
          "DM201",
          "UXMA12",
          "KNGB20",
          "KNGB01",
          "UXRC40A",
          "DM501",
          "UXRF40",
          "DM720",
          "DM653",
          "DZ421",
          "DM674",
          "KKGH10",
          "UXUB30",
          "DS836",
          "UXUG25",
          "DN433",
          "DM190",
          "KKED22",
          "UXME00",
          "BLHN10",
          "UXRF15",
          "DT923",
          "DM513",
          "UXCD15",
          "AFB01A",
          "DK642",
          "DD229",
          "UXUD92",
          "KNAG64",
          "UXMF50",
          "DM708"
         ],
         "tickvals": [
          0,
          1,
          2,
          3,
          4,
          5,
          6,
          7,
          8,
          9,
          10,
          11,
          12,
          13,
          14,
          15,
          16,
          17,
          18,
          19,
          20,
          21,
          22,
          23,
          24,
          25,
          26,
          27,
          28,
          29,
          30,
          31,
          32,
          33,
          34,
          35,
          36,
          37,
          38,
          39,
          40,
          41,
          42,
          43,
          44,
          45,
          46,
          47,
          48,
          49,
          50,
          51,
          52,
          53,
          54,
          55,
          56,
          57,
          58,
          59,
          60,
          61,
          62,
          63,
          64,
          65,
          66,
          67,
          68,
          69,
          70,
          71,
          72,
          73,
          74,
          75,
          76,
          77,
          78,
          79,
          80,
          81,
          82,
          83,
          84,
          85,
          86,
          87,
          88,
          89,
          90,
          91,
          92,
          93,
          94,
          95,
          96,
          97,
          98,
          99,
          100,
          101,
          102,
          103,
          104,
          105,
          106,
          107,
          108,
          109,
          110,
          111,
          112,
          113,
          114,
          115,
          116,
          117,
          118,
          119,
          120,
          121,
          122,
          123,
          124,
          125,
          126,
          127,
          128,
          129,
          130,
          131,
          132,
          133,
          134,
          135,
          136,
          137,
          138,
          139,
          140,
          141,
          142,
          143,
          144,
          145,
          146,
          147,
          148,
          149,
          150,
          151,
          152,
          153,
          154
         ]
        }
       }
      },
      "text/html": [
       "<div>                            <div id=\"34c1d627-45c1-40fd-96c4-464783379ad8\" class=\"plotly-graph-div\" style=\"height:525px; width:100%;\"></div>            <script type=\"text/javascript\">                require([\"plotly\"], function(Plotly) {                    window.PLOTLYENV=window.PLOTLYENV || {};                                    if (document.getElementById(\"34c1d627-45c1-40fd-96c4-464783379ad8\")) {                    Plotly.newPlot(                        \"34c1d627-45c1-40fd-96c4-464783379ad8\",                        [{\"hovertext\":[\"Kontakt mhp radiologisk undersøgelse\",\"Førstegangsbesøg\",\"UL-undersøgelse af mamma\",\"Klinisk mammografi\",\"MR-skanning af columna lumbalis\",\"Ambulant besøg\",\"Telefonkonsultation\",\"UL-undersøgelse af thoraxvæg og axil, inkl. periclaviculær\",\"MR-skanning af knæ\",\"Klinisk undersøgelse\",\"Kontrolbesøg\",\"Obs. pga mistanke om sygdom eller tilstand UNS\",\"MR-skanning af cerebrum\",\"MR-skanning af columna cervicalis\",\"Skulderlidelse UNS\",\"Primær enkeltsidig knæledsartrose\",\"Spinalstenose\",\"Primær enkeltsidig hofteledsartrose\",\"Smerter UNS\",\"Lændesmerter UNS\",\"Terapeutisk steroidinjektion i led på overekstremitet\",\"UL-undersøgelse af skulder\",\"Knæledslidelse UNS\",\"MR-skanning af skulder\",\"Brystkræft: udredning start, første fremmøde\",\"Ingvinalhernie UNS uden ileus eller gangræn\",\"Terapeutisk steroidinjektion i led på underekstremitet\",\"MR-skanning af mellemøre\",\"Ekstremitetssmerter\",\"Brystkræft: pakkeforløb slut, diagnose afkræftet\",\"MR-skanning af columna thoracalis\",\"Elektronisk kontakt med klinisk sigte\",\"Søvnapnø\",\"Kontakt mhp ultralydsundersøgelse\",\"Primær dobbeltsidig knæledsartrose\",\"Afklemningssyndrom i skulder\",\"Implantat indsat\",\"Undersøgelse af hud med dermatoskop\",\"ENG\\u002fEMG almen\",\"Vandladningsbesvær UNS\",\"Grovnålsbiopsi af bryst\",\"Obs. pga mistanke om sygdom i nervesystem\",\"Karpaltunnelsyndrom\",\"Kontrolundersøgelse efter operation af anden tilstand\",\"Røntgenundersøgelse af knæ\",\"Ledsmerter\",\"Rygsmerter UNS\",\"Udlevering\\u002fforsendelse af tilbehør\",\"Rotator cuff-syndrom\",\"MR-skanning af hofteled\",\"UL-undersøgelse af urinblæren\",\"Traumatisk ruptur af menisk i knæled\",\"Brevsvar vedrørende konkret undersøgelse\",\"Osteodensitometri, dual X-ray absorptiometri, columna lumb.\",\"MR-skanning af fodled\",\"Osteodensitometri, dual X-ray absorptiometri af collum fem.\",\"UL-undersøgelse af øvre abdomen\",\"Stuegang\",\"Laparoskopisk operation for ingvinalhernie\",\"Røntgenundersøgelse af fod og tæer\",\"Prostatahypertrofi\",\"Phimosis\",\"Dekompression af lumbal spinalkanal og nerverod\",\"CT-skanning af thorax\",\"Artroskop. resekt., intraart. eksostose\\u002fosteofyt, skulderled\",\"UL-undersøgelse af hofte\",\"Uroflowmetri\",\"Primær dobbeltsidig hofteledsartrose\",\"Røntgenundersøgelse af hofte\",\"Apnø-hypopnø indeks (AHI)\",\"Gammel menisklæsion\",\"ENG\\u002fEMG speciel (\\u003c 2 timer)\",\"Punktur og aspiration af cyste i bryst\",\"Røntgenundersøgelse af hånd og fingre\",\"Transvaginal UL-undersøgelse af genitalia feminina\",\"Generel anæstesi\",\"Diagnostisk blokade\",\"UL-undersøgelse af scrotum\",\"Kontrol af CPAP-behandling\",\"Gynækologisk undersøgelse\",\"CPAP Compliance aflæst på CPAP-apparatur\",\"Epworth Sleepiness Scale (ESS)\",\"Primær indsættelse af ucementeret totalprotese i hofteled\",\"Anoskopi\",\"Røntgenundersøgelse af columna lumbalis\",\"MR-skanning af fod og tæer\",\"Røntgenundersøgelse af thorax\",\"Symptom i nervesystemet UNS\",\"Umbilikalhernie uden ileus eller gangræn\",\"Artroskopisk partiel resektion af menisk i knæled\",\"MR-skanning af os sacrum\",\"Reumatisme UNS\",\"Primær indsættelse af cementeret totalprotese i knæled\",\"Lumbal diskusprolaps IV\\u002fV med radikulopati\",\"Periarthrosis humeroscapularis\",\"Dekompression af lumbal nerverod\",\"Ryglidelse UNS\",\"Læsion af korsbånd i knæled\",\"Generel pleje ved lidelse i hud og underhud\",\"Åben operation for lumbal diskusprolaps\",\"MR-skanning af håndled\",\"Nyresten UNS\",\"Spondylolistese\",\"Lumbosakral diskusprolaps med radikulopati\",\"MR-skanning af bækken, inkl. begge hofteled\",\"Cervikale rygsmerter\",\"Knæledsartrose UNS\",\"Sten i galdeblæren uden kolecystitis\",\"Røntgenundersøgelse af bækken\",\"UL-undersøgelse af fod\",\"Videokonsultation\",\"Primær indsættelse af hybrid totalprotese i hofteled\",\"Spondylose med radikulopati\",\"UL-undersøgelse af nedre abdomen\",\"CT-skanning af nyrer\",\"Lumbal eller torakal diskusprolaps med radikulopati\",\"Blefarokalasi\",\"Cystoskopi\",\"Residualurin måling\",\"UL-undersøgelse af fodled\",\"Hofteledsartrose UNS\",\"MR-skanning af sakroiliakaled\",\"Tangential røntgenundersøgelse af patella\",\"E-mail konsultation\",\"Erhvervet hallux valgus\",\"MR-skanning af fossa posterior\",\"Primær indsættelse af ucementeret totalprotese i knæled\",\"Primær indsættelse af medial ucementeret delprotese i knæled\",\"Mamma tomosyntese, klinisk\",\"Cervikal diskusprolaps med radikulopati\",\"Røntgenundersøgelse af håndled\",\"Dupuytrens kontraktur\",\"Springfinger\",\"Kontakt mhp plastikkirurgisk efterbehandling af bryst\",\"Ganglion\",\"Phimosisoperation\",\"Kvantitativ UL \\u002f Doppler-undersøgelse af halsarterier\",\"Distorsion af anden el. ikke specificeret struktur i knæled\",\"UL-undersøgelse af knæ\",\"Hydrocele UNS\",\"Primær artrose i andet (andre) led\",\"Transuretral prostataresektion (TUR-P)\",\"MR-skanning af columna\",\"Terapeutisk blokade i led og bløddele på overekstremitet\",\"Røntgenundersøgelse af skulder\",\"Følgetilstand efter luksation eller distorsion i arm\",\"Anden torakal eller lumbal diskusdegeneration\",\"CT-skanning af nedre abdomen, inkl. bækken\",\"Brystkræft: henvisning til pakkeforløb start\",\"Grad 3 hæmorider\",\"Nævus UNS\",\"UL-undersøgelse af prostata, inkl. transrektal skanning\",\"Bageste spondylodese u. fiksation i columna lumbalis\",\"MR-skanning af hånd og fingre\",\"An. bløddelsgigt opstået v. belastning, overbelastning, tryk\"],\"marker\":{\"color\":\"black\"},\"name\":\"Predicted SKS code\",\"width\":0.5,\"x\":[0,1,2,3,4,5,6,7,8,9,10,11,12,13,14,15,16,17,18,19,20,21,22,23,24,25,26,27,28,29,30,31,32,33,34,35,36,37,38,39,40,41,42,43,44,45,46,47,48,49,50,51,52,53,54,55,56,57,58,59,60,61,62,63,64,65,66,67,68,69,70,71,72,73,74,75,76,77,78,79,80,81,82,83,84,85,86,87,88,89,90,91,92,93,94,95,96,97,98,99,100,101,102,103,104,105,106,107,108,109,110,111,112,113,114,115,116,117,118,119,120,121,122,123,124,125,126,127,128,129,130,131,132,133,134,135,136,137,138,139,140,141,142,143,144,145,146,147,148,149,150,151,152,153,154],\"y\":[-3.4964385,-7.774822,-7.6365075,-6.7050924,-9.645045,4.637604,-5.495218,-8.572933,-7.8609204,-8.7597,-6.996956,-6.1571326,-8.965261,-9.920138,3.3723958,-6.699376,-8.852759,-8.238546,-7.4555244,-8.762936,-5.0625997,-6.3773203,-6.0960083,-6.0620003,-10.717833,-8.483312,-10.751722,-9.140893,-6.588558,-9.912946,-9.435998,-5.87269,-6.4157543,-9.547895,-8.260947,-5.22755,-6.7922373,-8.526238,-11.569108,-6.0442247,-5.686367,-9.2468815,-9.496037,-6.6956005,-10.040158,-7.2081656,-7.7104883,-6.9898643,-4.4652767,-7.221984,-9.9438505,-7.7235856,-9.326137,-10.805063,-8.141334,-11.463494,-9.194613,-9.725002,-11.996997,-11.086341,-7.1343865,-8.371857,-10.114055,-9.7966585,-5.3622713,-11.595344,-9.930515,-10.219508,-9.9223385,-10.520354,-8.988456,-9.933605,-8.64027,-9.64972,-9.686708,-8.187807,-7.847183,-13.039539,-9.895856,-9.858714,-10.015378,-10.119781,-10.436241,-9.047623,-9.249258,-10.775928,-10.461262,-8.748018,-9.320583,-11.338403,-12.165231,-7.481949,-9.841274,-8.439684,-4.8786464,-8.912261,-7.404556,-6.526079,-8.817968,-8.889319,-9.292085,-9.880611,-9.064869,-8.608097,-7.8978887,-7.7455654,-7.0885053,-9.501843,-10.691543,-11.357329,-5.0662775,-10.263088,-7.261108,-8.762002,-9.954822,-7.81612,-8.866315,-7.3691854,-9.370776,-10.737191,-9.4649725,-11.093746,-10.249046,-6.3981457,-11.349984,-10.646959,-9.405634,-8.157425,-9.798824,-7.8570976,-10.0358305,-8.745049,-9.798764,-8.565689,-10.384144,-9.523628,-9.581131,-5.8795466,-11.541477,-12.204349,-6.9592695,-8.62435,-10.310597,-7.4913526,-6.916582,-6.6405187,-8.393917,-8.496498,-8.162764,-8.190627,-8.207845,-8.8583555,-9.630338,-9.737332,-7.2908373],\"type\":\"bar\"},{\"hovertext\":[\"Ambulant besøg\",\"Skulderlidelse UNS\"],\"marker\":{\"color\":\"red\"},\"name\":\"True SKS code\",\"width\":0.5,\"x\":[5,14],\"y\":[4.637604,3.3723958],\"type\":\"bar\"}],                        {\"template\":{\"data\":{\"histogram2dcontour\":[{\"type\":\"histogram2dcontour\",\"colorbar\":{\"outlinewidth\":0,\"ticks\":\"\"},\"colorscale\":[[0.0,\"#0d0887\"],[0.1111111111111111,\"#46039f\"],[0.2222222222222222,\"#7201a8\"],[0.3333333333333333,\"#9c179e\"],[0.4444444444444444,\"#bd3786\"],[0.5555555555555556,\"#d8576b\"],[0.6666666666666666,\"#ed7953\"],[0.7777777777777778,\"#fb9f3a\"],[0.8888888888888888,\"#fdca26\"],[1.0,\"#f0f921\"]]}],\"choropleth\":[{\"type\":\"choropleth\",\"colorbar\":{\"outlinewidth\":0,\"ticks\":\"\"}}],\"histogram2d\":[{\"type\":\"histogram2d\",\"colorbar\":{\"outlinewidth\":0,\"ticks\":\"\"},\"colorscale\":[[0.0,\"#0d0887\"],[0.1111111111111111,\"#46039f\"],[0.2222222222222222,\"#7201a8\"],[0.3333333333333333,\"#9c179e\"],[0.4444444444444444,\"#bd3786\"],[0.5555555555555556,\"#d8576b\"],[0.6666666666666666,\"#ed7953\"],[0.7777777777777778,\"#fb9f3a\"],[0.8888888888888888,\"#fdca26\"],[1.0,\"#f0f921\"]]}],\"heatmap\":[{\"type\":\"heatmap\",\"colorbar\":{\"outlinewidth\":0,\"ticks\":\"\"},\"colorscale\":[[0.0,\"#0d0887\"],[0.1111111111111111,\"#46039f\"],[0.2222222222222222,\"#7201a8\"],[0.3333333333333333,\"#9c179e\"],[0.4444444444444444,\"#bd3786\"],[0.5555555555555556,\"#d8576b\"],[0.6666666666666666,\"#ed7953\"],[0.7777777777777778,\"#fb9f3a\"],[0.8888888888888888,\"#fdca26\"],[1.0,\"#f0f921\"]]}],\"heatmapgl\":[{\"type\":\"heatmapgl\",\"colorbar\":{\"outlinewidth\":0,\"ticks\":\"\"},\"colorscale\":[[0.0,\"#0d0887\"],[0.1111111111111111,\"#46039f\"],[0.2222222222222222,\"#7201a8\"],[0.3333333333333333,\"#9c179e\"],[0.4444444444444444,\"#bd3786\"],[0.5555555555555556,\"#d8576b\"],[0.6666666666666666,\"#ed7953\"],[0.7777777777777778,\"#fb9f3a\"],[0.8888888888888888,\"#fdca26\"],[1.0,\"#f0f921\"]]}],\"contourcarpet\":[{\"type\":\"contourcarpet\",\"colorbar\":{\"outlinewidth\":0,\"ticks\":\"\"}}],\"contour\":[{\"type\":\"contour\",\"colorbar\":{\"outlinewidth\":0,\"ticks\":\"\"},\"colorscale\":[[0.0,\"#0d0887\"],[0.1111111111111111,\"#46039f\"],[0.2222222222222222,\"#7201a8\"],[0.3333333333333333,\"#9c179e\"],[0.4444444444444444,\"#bd3786\"],[0.5555555555555556,\"#d8576b\"],[0.6666666666666666,\"#ed7953\"],[0.7777777777777778,\"#fb9f3a\"],[0.8888888888888888,\"#fdca26\"],[1.0,\"#f0f921\"]]}],\"surface\":[{\"type\":\"surface\",\"colorbar\":{\"outlinewidth\":0,\"ticks\":\"\"},\"colorscale\":[[0.0,\"#0d0887\"],[0.1111111111111111,\"#46039f\"],[0.2222222222222222,\"#7201a8\"],[0.3333333333333333,\"#9c179e\"],[0.4444444444444444,\"#bd3786\"],[0.5555555555555556,\"#d8576b\"],[0.6666666666666666,\"#ed7953\"],[0.7777777777777778,\"#fb9f3a\"],[0.8888888888888888,\"#fdca26\"],[1.0,\"#f0f921\"]]}],\"mesh3d\":[{\"type\":\"mesh3d\",\"colorbar\":{\"outlinewidth\":0,\"ticks\":\"\"}}],\"scatter\":[{\"fillpattern\":{\"fillmode\":\"overlay\",\"size\":10,\"solidity\":0.2},\"type\":\"scatter\"}],\"parcoords\":[{\"type\":\"parcoords\",\"line\":{\"colorbar\":{\"outlinewidth\":0,\"ticks\":\"\"}}}],\"scatterpolargl\":[{\"type\":\"scatterpolargl\",\"marker\":{\"colorbar\":{\"outlinewidth\":0,\"ticks\":\"\"}}}],\"bar\":[{\"error_x\":{\"color\":\"#2a3f5f\"},\"error_y\":{\"color\":\"#2a3f5f\"},\"marker\":{\"line\":{\"color\":\"#E5ECF6\",\"width\":0.5},\"pattern\":{\"fillmode\":\"overlay\",\"size\":10,\"solidity\":0.2}},\"type\":\"bar\"}],\"scattergeo\":[{\"type\":\"scattergeo\",\"marker\":{\"colorbar\":{\"outlinewidth\":0,\"ticks\":\"\"}}}],\"scatterpolar\":[{\"type\":\"scatterpolar\",\"marker\":{\"colorbar\":{\"outlinewidth\":0,\"ticks\":\"\"}}}],\"histogram\":[{\"marker\":{\"pattern\":{\"fillmode\":\"overlay\",\"size\":10,\"solidity\":0.2}},\"type\":\"histogram\"}],\"scattergl\":[{\"type\":\"scattergl\",\"marker\":{\"colorbar\":{\"outlinewidth\":0,\"ticks\":\"\"}}}],\"scatter3d\":[{\"type\":\"scatter3d\",\"line\":{\"colorbar\":{\"outlinewidth\":0,\"ticks\":\"\"}},\"marker\":{\"colorbar\":{\"outlinewidth\":0,\"ticks\":\"\"}}}],\"scattermapbox\":[{\"type\":\"scattermapbox\",\"marker\":{\"colorbar\":{\"outlinewidth\":0,\"ticks\":\"\"}}}],\"scatterternary\":[{\"type\":\"scatterternary\",\"marker\":{\"colorbar\":{\"outlinewidth\":0,\"ticks\":\"\"}}}],\"scattercarpet\":[{\"type\":\"scattercarpet\",\"marker\":{\"colorbar\":{\"outlinewidth\":0,\"ticks\":\"\"}}}],\"carpet\":[{\"aaxis\":{\"endlinecolor\":\"#2a3f5f\",\"gridcolor\":\"white\",\"linecolor\":\"white\",\"minorgridcolor\":\"white\",\"startlinecolor\":\"#2a3f5f\"},\"baxis\":{\"endlinecolor\":\"#2a3f5f\",\"gridcolor\":\"white\",\"linecolor\":\"white\",\"minorgridcolor\":\"white\",\"startlinecolor\":\"#2a3f5f\"},\"type\":\"carpet\"}],\"table\":[{\"cells\":{\"fill\":{\"color\":\"#EBF0F8\"},\"line\":{\"color\":\"white\"}},\"header\":{\"fill\":{\"color\":\"#C8D4E3\"},\"line\":{\"color\":\"white\"}},\"type\":\"table\"}],\"barpolar\":[{\"marker\":{\"line\":{\"color\":\"#E5ECF6\",\"width\":0.5},\"pattern\":{\"fillmode\":\"overlay\",\"size\":10,\"solidity\":0.2}},\"type\":\"barpolar\"}],\"pie\":[{\"automargin\":true,\"type\":\"pie\"}]},\"layout\":{\"autotypenumbers\":\"strict\",\"colorway\":[\"#636efa\",\"#EF553B\",\"#00cc96\",\"#ab63fa\",\"#FFA15A\",\"#19d3f3\",\"#FF6692\",\"#B6E880\",\"#FF97FF\",\"#FECB52\"],\"font\":{\"color\":\"#2a3f5f\"},\"hovermode\":\"closest\",\"hoverlabel\":{\"align\":\"left\"},\"paper_bgcolor\":\"white\",\"plot_bgcolor\":\"#E5ECF6\",\"polar\":{\"bgcolor\":\"#E5ECF6\",\"angularaxis\":{\"gridcolor\":\"white\",\"linecolor\":\"white\",\"ticks\":\"\"},\"radialaxis\":{\"gridcolor\":\"white\",\"linecolor\":\"white\",\"ticks\":\"\"}},\"ternary\":{\"bgcolor\":\"#E5ECF6\",\"aaxis\":{\"gridcolor\":\"white\",\"linecolor\":\"white\",\"ticks\":\"\"},\"baxis\":{\"gridcolor\":\"white\",\"linecolor\":\"white\",\"ticks\":\"\"},\"caxis\":{\"gridcolor\":\"white\",\"linecolor\":\"white\",\"ticks\":\"\"}},\"coloraxis\":{\"colorbar\":{\"outlinewidth\":0,\"ticks\":\"\"}},\"colorscale\":{\"sequential\":[[0.0,\"#0d0887\"],[0.1111111111111111,\"#46039f\"],[0.2222222222222222,\"#7201a8\"],[0.3333333333333333,\"#9c179e\"],[0.4444444444444444,\"#bd3786\"],[0.5555555555555556,\"#d8576b\"],[0.6666666666666666,\"#ed7953\"],[0.7777777777777778,\"#fb9f3a\"],[0.8888888888888888,\"#fdca26\"],[1.0,\"#f0f921\"]],\"sequentialminus\":[[0.0,\"#0d0887\"],[0.1111111111111111,\"#46039f\"],[0.2222222222222222,\"#7201a8\"],[0.3333333333333333,\"#9c179e\"],[0.4444444444444444,\"#bd3786\"],[0.5555555555555556,\"#d8576b\"],[0.6666666666666666,\"#ed7953\"],[0.7777777777777778,\"#fb9f3a\"],[0.8888888888888888,\"#fdca26\"],[1.0,\"#f0f921\"]],\"diverging\":[[0,\"#8e0152\"],[0.1,\"#c51b7d\"],[0.2,\"#de77ae\"],[0.3,\"#f1b6da\"],[0.4,\"#fde0ef\"],[0.5,\"#f7f7f7\"],[0.6,\"#e6f5d0\"],[0.7,\"#b8e186\"],[0.8,\"#7fbc41\"],[0.9,\"#4d9221\"],[1,\"#276419\"]]},\"xaxis\":{\"gridcolor\":\"white\",\"linecolor\":\"white\",\"ticks\":\"\",\"title\":{\"standoff\":15},\"zerolinecolor\":\"white\",\"automargin\":true,\"zerolinewidth\":2},\"yaxis\":{\"gridcolor\":\"white\",\"linecolor\":\"white\",\"ticks\":\"\",\"title\":{\"standoff\":15},\"zerolinecolor\":\"white\",\"automargin\":true,\"zerolinewidth\":2},\"scene\":{\"xaxis\":{\"backgroundcolor\":\"#E5ECF6\",\"gridcolor\":\"white\",\"linecolor\":\"white\",\"showbackground\":true,\"ticks\":\"\",\"zerolinecolor\":\"white\",\"gridwidth\":2},\"yaxis\":{\"backgroundcolor\":\"#E5ECF6\",\"gridcolor\":\"white\",\"linecolor\":\"white\",\"showbackground\":true,\"ticks\":\"\",\"zerolinecolor\":\"white\",\"gridwidth\":2},\"zaxis\":{\"backgroundcolor\":\"#E5ECF6\",\"gridcolor\":\"white\",\"linecolor\":\"white\",\"showbackground\":true,\"ticks\":\"\",\"zerolinecolor\":\"white\",\"gridwidth\":2}},\"shapedefaults\":{\"line\":{\"color\":\"#2a3f5f\"}},\"annotationdefaults\":{\"arrowcolor\":\"#2a3f5f\",\"arrowhead\":0,\"arrowwidth\":1},\"geo\":{\"bgcolor\":\"white\",\"landcolor\":\"#E5ECF6\",\"subunitcolor\":\"white\",\"showland\":true,\"showlakes\":true,\"lakecolor\":\"white\"},\"title\":{\"x\":0.05},\"mapbox\":{\"style\":\"light\"}}},\"xaxis\":{\"tickmode\":\"array\",\"tickvals\":[0,1,2,3,4,5,6,7,8,9,10,11,12,13,14,15,16,17,18,19,20,21,22,23,24,25,26,27,28,29,30,31,32,33,34,35,36,37,38,39,40,41,42,43,44,45,46,47,48,49,50,51,52,53,54,55,56,57,58,59,60,61,62,63,64,65,66,67,68,69,70,71,72,73,74,75,76,77,78,79,80,81,82,83,84,85,86,87,88,89,90,91,92,93,94,95,96,97,98,99,100,101,102,103,104,105,106,107,108,109,110,111,112,113,114,115,116,117,118,119,120,121,122,123,124,125,126,127,128,129,130,131,132,133,134,135,136,137,138,139,140,141,142,143,144,145,146,147,148,149,150,151,152,153,154],\"ticktext\":[\"DZ016\",\"AAF21\",\"UXUC40\",\"UXRC40\",\"UXME30\",\"AAF22\",\"BVAA33A\",\"UXUC10\",\"UXMG25\",\"ZZ0149\",\"AAF23\",\"DZ039\",\"UXMA00\",\"UXME10\",\"DM759\",\"DM171\",\"DM480\",\"DM161\",\"DR529\",\"DM545\",\"BLHN00\",\"UXUF15\",\"DM239\",\"UXMF10\",\"AFB01B\",\"DK409\",\"BLHN01\",\"UXMA16\",\"DM796\",\"AFB01X1\",\"UXME20\",\"BVAA33\",\"DG473\",\"DZ016U\",\"DM170\",\"DM754\",\"KWAA01\",\"ZZ5250\",\"UCGG00\",\"DR391\",\"KTHA10C\",\"DZ033\",\"DG560\",\"DZ090\",\"UXRG25\",\"DM255\",\"DM549\",\"ZZ3917\",\"DM751\",\"UXMG15\",\"UXUD75\",\"DS832\",\"BVAC10\",\"UXRE80\",\"UXMG40\",\"UXRG80\",\"UXUD10\",\"AAF84\",\"KJAB11\",\"UXRG50\",\"DN409\",\"DN479D\",\"KABC56\",\"UXCC00\",\"KNBH51\",\"UXUG15\",\"ZZ1280\",\"DM160\",\"UXRG15\",\"ZZV020B\",\"DM232\",\"UCGG01\",\"KTHA30\",\"UXRF50\",\"UXUD82\",\"NAAC\",\"ZZ1220\",\"UXUD95\",\"ZZ3912\",\"ZZ4190\",\"ZZV020A\",\"ZZV020D\",\"KNFB20\",\"KUJH02\",\"UXRE30\",\"UXMG50\",\"UXRC00\",\"DR298A\",\"DK429\",\"KNGD11\",\"UXME50\",\"DM790\",\"KNGB40\",\"DM511D\",\"DM750\",\"KABC36\",\"DM539\",\"DS835\",\"BNVA\",\"KABC26\",\"UXMF40\",\"DN200\",\"DM431\",\"DM511E\",\"UXMG10\",\"DM542\",\"DM179\",\"DK802\",\"UXRG10\",\"UXUG50\",\"BVAA33D\",\"KNFB30\",\"DM472A\",\"UXUD15\",\"UXCD60\",\"DM511\",\"DH023\",\"KUKC02\",\"ZZ1291\",\"UXUG40\",\"DM169\",\"UXMG11\",\"UXRG27\",\"BVAA33B\",\"DM201\",\"UXMA12\",\"KNGB20\",\"KNGB01\",\"UXRC40A\",\"DM501\",\"UXRF40\",\"DM720\",\"DM653\",\"DZ421\",\"DM674\",\"KKGH10\",\"UXUB30\",\"DS836\",\"UXUG25\",\"DN433\",\"DM190\",\"KKED22\",\"UXME00\",\"BLHN10\",\"UXRF15\",\"DT923\",\"DM513\",\"UXCD15\",\"AFB01A\",\"DK642\",\"DD229\",\"UXUD92\",\"KNAG64\",\"UXMF50\",\"DM708\"],\"tickangle\":90},\"barmode\":\"overlay\"},                        {\"responsive\": true}                    ).then(function(){\n",
       "                            \n",
       "var gd = document.getElementById('34c1d627-45c1-40fd-96c4-464783379ad8');\n",
       "var x = new MutationObserver(function (mutations, observer) {{\n",
       "        var display = window.getComputedStyle(gd).display;\n",
       "        if (!display || display === 'none') {{\n",
       "            console.log([gd, 'removed!']);\n",
       "            Plotly.purge(gd);\n",
       "            observer.disconnect();\n",
       "        }}\n",
       "}});\n",
       "\n",
       "// Listen for the removal of the full notebook cells\n",
       "var notebookContainer = gd.closest('#notebook-container');\n",
       "if (notebookContainer) {{\n",
       "    x.observe(notebookContainer, {childList: true});\n",
       "}}\n",
       "\n",
       "// Listen for the clearing of the current output cell\n",
       "var outputEl = gd.closest('.output');\n",
       "if (outputEl) {{\n",
       "    x.observe(outputEl, {childList: true});\n",
       "}}\n",
       "\n",
       "                        })                };                });            </script>        </div>"
      ]
     },
     "metadata": {},
     "output_type": "display_data"
    }
   ],
   "source": [
    "idx = 137\n",
    "plot_prediction(trained_model, data, idx)"
   ]
  },
  {
   "cell_type": "code",
   "execution_count": 152,
   "id": "a236a3db",
   "metadata": {},
   "outputs": [],
   "source": [
    "idx = 137\n",
    "\n",
    "text = get_row(data, idx)['text']\n",
    "\n",
    "in_short = tokenizer(text, return_tensors=\"pt\", padding=\"max_length\", truncation=True)\n",
    "in_long = tokenizer(text, return_tensors=\"pt\")\n",
    "\n",
    "in_short_cuda = to_cuda(in_short)\n",
    "in_long_cuda = to_cuda(get_interval(in_long))"
   ]
  },
  {
   "cell_type": "code",
   "execution_count": 153,
   "id": "93424bca",
   "metadata": {},
   "outputs": [
    {
     "name": "stdout",
     "output_type": "stream",
     "text": [
      "tensor([[ True,  True,  True,  True,  True,  True,  True,  True,  True,  True,\n",
      "          True,  True,  True,  True,  True,  True,  True,  True,  True,  True,\n",
      "          True,  True,  True,  True,  True,  True,  True,  True,  True,  True,\n",
      "          True,  True,  True,  True,  True,  True,  True,  True,  True,  True,\n",
      "          True,  True,  True,  True,  True,  True,  True,  True,  True,  True,\n",
      "          True,  True,  True,  True,  True,  True,  True,  True,  True,  True,\n",
      "          True,  True,  True,  True,  True,  True,  True,  True,  True,  True,\n",
      "          True,  True,  True,  True,  True,  True,  True,  True,  True,  True,\n",
      "          True,  True,  True,  True,  True,  True,  True,  True,  True,  True,\n",
      "          True,  True,  True,  True,  True,  True,  True,  True,  True,  True,\n",
      "          True,  True,  True,  True,  True,  True,  True,  True,  True,  True,\n",
      "          True,  True,  True,  True,  True,  True,  True,  True,  True,  True,\n",
      "          True,  True,  True,  True,  True,  True,  True,  True,  True,  True,\n",
      "          True,  True,  True,  True,  True,  True,  True,  True,  True,  True,\n",
      "          True,  True,  True,  True,  True,  True,  True,  True,  True,  True,\n",
      "          True,  True,  True,  True,  True,  True,  True,  True,  True,  True,\n",
      "          True,  True,  True,  True,  True,  True,  True,  True,  True,  True,\n",
      "          True,  True,  True,  True,  True,  True,  True,  True,  True,  True,\n",
      "          True,  True,  True,  True,  True,  True,  True,  True,  True,  True,\n",
      "          True,  True,  True,  True,  True,  True,  True,  True,  True,  True,\n",
      "          True,  True,  True,  True,  True,  True,  True,  True,  True,  True,\n",
      "          True,  True,  True,  True,  True,  True,  True,  True,  True,  True,\n",
      "          True,  True,  True,  True,  True,  True,  True,  True,  True,  True,\n",
      "          True,  True,  True,  True,  True,  True,  True,  True,  True,  True,\n",
      "          True,  True,  True,  True,  True,  True,  True,  True,  True,  True,\n",
      "          True,  True,  True,  True,  True,  True,  True,  True,  True,  True,\n",
      "          True,  True,  True,  True,  True,  True,  True,  True,  True,  True,\n",
      "          True,  True,  True,  True,  True,  True,  True,  True,  True,  True,\n",
      "          True,  True,  True,  True,  True,  True,  True,  True,  True,  True,\n",
      "          True,  True,  True,  True,  True,  True,  True,  True,  True,  True,\n",
      "          True,  True,  True,  True,  True,  True,  True,  True,  True,  True,\n",
      "          True,  True,  True,  True,  True,  True,  True,  True,  True,  True,\n",
      "          True,  True,  True,  True,  True,  True,  True,  True,  True,  True,\n",
      "          True,  True,  True,  True,  True,  True,  True,  True,  True,  True,\n",
      "          True,  True,  True,  True,  True,  True,  True,  True,  True,  True,\n",
      "          True,  True,  True,  True,  True,  True,  True,  True,  True,  True,\n",
      "          True,  True,  True,  True,  True,  True,  True,  True,  True,  True,\n",
      "          True,  True,  True,  True,  True,  True,  True,  True,  True,  True,\n",
      "          True,  True,  True,  True,  True,  True,  True,  True,  True,  True,\n",
      "          True,  True,  True,  True,  True,  True,  True,  True,  True,  True,\n",
      "          True,  True,  True,  True,  True,  True,  True,  True,  True,  True,\n",
      "          True,  True,  True,  True,  True,  True,  True,  True,  True,  True,\n",
      "          True,  True,  True,  True,  True,  True,  True,  True,  True,  True,\n",
      "          True,  True,  True,  True,  True,  True,  True,  True,  True,  True,\n",
      "          True,  True,  True,  True,  True,  True,  True,  True,  True,  True,\n",
      "          True,  True,  True,  True,  True,  True,  True,  True,  True,  True,\n",
      "          True,  True,  True,  True,  True,  True,  True,  True,  True,  True,\n",
      "          True,  True,  True,  True,  True,  True,  True,  True,  True,  True,\n",
      "          True,  True,  True,  True,  True,  True,  True,  True,  True,  True,\n",
      "          True,  True,  True,  True,  True,  True,  True,  True,  True,  True,\n",
      "          True,  True,  True,  True,  True,  True,  True,  True,  True,  True,\n",
      "          True, False]], device='cuda:0')\n",
      "tensor([[True, True, True, True, True, True, True, True, True, True, True, True,\n",
      "         True, True, True, True, True, True, True, True, True, True, True, True,\n",
      "         True, True, True, True, True, True, True, True, True, True, True, True,\n",
      "         True, True, True, True, True, True, True, True, True, True, True, True,\n",
      "         True, True, True, True, True, True, True, True, True, True, True, True,\n",
      "         True, True, True, True, True, True, True, True, True, True, True, True,\n",
      "         True, True, True, True, True, True, True, True, True, True, True, True,\n",
      "         True, True, True, True, True, True, True, True, True, True, True, True,\n",
      "         True, True, True, True, True, True, True, True, True, True, True, True,\n",
      "         True, True, True, True, True, True, True, True, True, True, True, True,\n",
      "         True, True, True, True, True, True, True, True, True, True, True, True,\n",
      "         True, True, True, True, True, True, True, True, True, True, True, True,\n",
      "         True, True, True, True, True, True, True, True, True, True, True, True,\n",
      "         True, True, True, True, True, True, True, True, True, True, True, True,\n",
      "         True, True, True, True, True, True, True, True, True, True, True, True,\n",
      "         True, True, True, True, True, True, True, True, True, True, True, True,\n",
      "         True, True, True, True, True, True, True, True, True, True, True, True,\n",
      "         True, True, True, True, True, True, True, True, True, True, True, True,\n",
      "         True, True, True, True, True, True, True, True, True, True, True, True,\n",
      "         True, True, True, True, True, True, True, True, True, True, True, True,\n",
      "         True, True, True, True, True, True, True, True, True, True, True, True,\n",
      "         True, True, True, True, True, True, True, True, True, True, True, True,\n",
      "         True, True, True, True, True, True, True, True, True, True, True, True,\n",
      "         True, True, True, True, True, True, True, True, True, True, True, True,\n",
      "         True, True, True, True, True, True, True, True, True, True, True, True,\n",
      "         True, True, True, True, True, True, True, True, True, True, True, True,\n",
      "         True, True, True, True, True, True, True, True, True, True, True, True,\n",
      "         True, True, True, True, True, True, True, True, True, True, True, True,\n",
      "         True, True, True, True, True, True, True, True, True, True, True, True,\n",
      "         True, True, True, True, True, True, True, True, True, True, True, True,\n",
      "         True, True, True, True, True, True, True, True, True, True, True, True,\n",
      "         True, True, True, True, True, True, True, True, True, True, True, True,\n",
      "         True, True, True, True, True, True, True, True, True, True, True, True,\n",
      "         True, True, True, True, True, True, True, True, True, True, True, True,\n",
      "         True, True, True, True, True, True, True, True, True, True, True, True,\n",
      "         True, True, True, True, True, True, True, True, True, True, True, True,\n",
      "         True, True, True, True, True, True, True, True, True, True, True, True,\n",
      "         True, True, True, True, True, True, True, True, True, True, True, True,\n",
      "         True, True, True, True, True, True, True, True, True, True, True, True,\n",
      "         True, True, True, True, True, True, True, True, True, True, True, True,\n",
      "         True, True, True, True, True, True, True, True, True, True, True, True,\n",
      "         True, True, True, True, True, True, True, True, True, True, True, True,\n",
      "         True, True, True, True, True, True, True, True]], device='cuda:0')\n",
      "tensor([[True, True, True, True, True, True, True, True, True, True, True, True,\n",
      "         True, True, True, True, True, True, True, True, True, True, True, True,\n",
      "         True, True, True, True, True, True, True, True, True, True, True, True,\n",
      "         True, True, True, True, True, True, True, True, True, True, True, True,\n",
      "         True, True, True, True, True, True, True, True, True, True, True, True,\n",
      "         True, True, True, True, True, True, True, True, True, True, True, True,\n",
      "         True, True, True, True, True, True, True, True, True, True, True, True,\n",
      "         True, True, True, True, True, True, True, True, True, True, True, True,\n",
      "         True, True, True, True, True, True, True, True, True, True, True, True,\n",
      "         True, True, True, True, True, True, True, True, True, True, True, True,\n",
      "         True, True, True, True, True, True, True, True, True, True, True, True,\n",
      "         True, True, True, True, True, True, True, True, True, True, True, True,\n",
      "         True, True, True, True, True, True, True, True, True, True, True, True,\n",
      "         True, True, True, True, True, True, True, True, True, True, True, True,\n",
      "         True, True, True, True, True, True, True, True, True, True, True, True,\n",
      "         True, True, True, True, True, True, True, True, True, True, True, True,\n",
      "         True, True, True, True, True, True, True, True, True, True, True, True,\n",
      "         True, True, True, True, True, True, True, True, True, True, True, True,\n",
      "         True, True, True, True, True, True, True, True, True, True, True, True,\n",
      "         True, True, True, True, True, True, True, True, True, True, True, True,\n",
      "         True, True, True, True, True, True, True, True, True, True, True, True,\n",
      "         True, True, True, True, True, True, True, True, True, True, True, True,\n",
      "         True, True, True, True, True, True, True, True, True, True, True, True,\n",
      "         True, True, True, True, True, True, True, True, True, True, True, True,\n",
      "         True, True, True, True, True, True, True, True, True, True, True, True,\n",
      "         True, True, True, True, True, True, True, True, True, True, True, True,\n",
      "         True, True, True, True, True, True, True, True, True, True, True, True,\n",
      "         True, True, True, True, True, True, True, True, True, True, True, True,\n",
      "         True, True, True, True, True, True, True, True, True, True, True, True,\n",
      "         True, True, True, True, True, True, True, True, True, True, True, True,\n",
      "         True, True, True, True, True, True, True, True, True, True, True, True,\n",
      "         True, True, True, True, True, True, True, True, True, True, True, True,\n",
      "         True, True, True, True, True, True, True, True, True, True, True, True,\n",
      "         True, True, True, True, True, True, True, True, True, True, True, True,\n",
      "         True, True, True, True, True, True, True, True, True, True, True, True,\n",
      "         True, True, True, True, True, True, True, True, True, True, True, True,\n",
      "         True, True, True, True, True, True, True, True, True, True, True, True,\n",
      "         True, True, True, True, True, True, True, True, True, True, True, True,\n",
      "         True, True, True, True, True, True, True, True, True, True, True, True,\n",
      "         True, True, True, True, True, True, True, True, True, True, True, True,\n",
      "         True, True, True, True, True, True, True, True, True, True, True, True,\n",
      "         True, True, True, True, True, True, True, True, True, True, True, True,\n",
      "         True, True, True, True, True, True, True, True]], device='cuda:0')\n"
     ]
    }
   ],
   "source": [
    "for key in in_short_cuda.keys():\n",
    "    compare = in_short_cuda[key] == in_long_cuda[key]\n",
    "    print(compare)"
   ]
  },
  {
   "cell_type": "code",
   "execution_count": 186,
   "id": "bee52d8d",
   "metadata": {},
   "outputs": [],
   "source": [
    "out1 = trained_model(**in_long_cuda)\n",
    "out2 = trained_model(**in_short_cuda)\n",
    "\n",
    "res1 = out1.logits.cpu().detach()[0, :]\n",
    "res2 = out2.logits.cpu().detach()[0, :]"
   ]
  },
  {
   "cell_type": "code",
   "execution_count": 187,
   "id": "60928353",
   "metadata": {},
   "outputs": [
    {
     "data": {
      "image/png": "[encoded data removed]",
      "text/plain": [
       "<Figure size 640x480 with 1 Axes>"
      ]
     },
     "metadata": {},
     "output_type": "display_data"
    }
   ],
   "source": [
    "plt.hist(res1 / res2)\n",
    "plt.show()"
   ]
  },
  {
   "cell_type": "code",
   "execution_count": 190,
   "id": "9e4c3fd6",
   "metadata": {
    "scrolled": false
   },
   "outputs": [
    {
     "data": {
      "text/plain": [
       "[<matplotlib.lines.Line2D at 0x7f2e96f6d7b0>]"
      ]
     },
     "execution_count": 190,
     "metadata": {},
     "output_type": "execute_result"
    },
    {
     "data": {
      "image/png": "[encoded data removed]",
      "text/plain": [
       "<Figure size 640x480 with 2 Axes>"
      ]
     },
     "metadata": {},
     "output_type": "display_data"
    }
   ],
   "source": [
    "ax = np.arange(len(res1))\n",
    "\n",
    "plt.subplot(2, 1, 1)\n",
    "plt.plot(ax, res2, '-b')\n",
    "plt.plot(ax, res1, '.r')\n",
    "plt.subplot(2, 1, 2)\n",
    "plt.plot(ax, (res1 - res2) / (res1 + res2), '.r')\n"
   ]
  },
  {
   "cell_type": "code",
   "execution_count": 96,
   "id": "b6e6c5ac",
   "metadata": {},
   "outputs": [
    {
     "data": {
      "text/plain": [
       "'[CLS] < b > 02. 01. 2020 < / b > 1. konsultation AAF22 Ambulant besøg + ALFC2 hovedfunktionsniveau DM759 Skulderlidelse UNS Kommer til svar på skanningen, som viser AC - leds hypertrofi med ødemforandringer og diskrete forandringer til posteriore labrum. Ingen tegn på læsion. Vi drøfter blokadebehandling, men patienten er kun til udredning via Regionens aftale her. Derfor AFSLUTTES patienten. Han kan eventuelt få blokade via egen læge eller på OUH. Thomas Haller < b > 20. 12. 2019 < / b > MR - beskrivelse UXMF10 MR - skanning af skulder + ALFC2 hovedfunktionsniveau + TUL2 venstresidig + UXZ11 uden i. v. kontrast Patienten er informeret skriftligt og mundtligt om undersøgelsen og accepterer denne / vagthavende radiograf MR skanning af venstre skulder viser, betydelig hypertrofi af AC leddet med diskrete ødemforandringer i articulationsfladerne, samt ødem i kapslen og let grad af effusion i AC leddet. Type 4 acromion uden indtryk af significant impingement på supra - eller infraspinatussenerne med intakte sener, præget af diskrete signalforandringer ved muskulotendinøse overgang af infraspinatussenen med fortsat intakt sene og muskel. Der ses mindre flad og aflang ansamling klos på post. fossa i højde med kl. 9 - 10 med diskrete signalforandringer i post. labrum i samme område, uden mistanke om gennemgående læsioner eller paralabral cystedannelse. Må repræsentere posttraumatisk ansamling i området. Biceps samt subscapularissenerne er intakte. Ingen ansamling i bursa. Konklusion Hypertrofi af AC leddet med ødemforandringer i articulationsfladerne samt i kapslen samt type 4 acromion. Mindre flad og aflang ansamling klos på posteriore kant af fossa kl'"
      ]
     },
     "execution_count": 96,
     "metadata": {},
     "output_type": "execute_result"
    }
   ],
   "source": [
    "tokenizer.decode(new_inputs['input_ids'])"
   ]
  },
  {
   "cell_type": "code",
   "execution_count": 191,
   "id": "c2c70499",
   "metadata": {},
   "outputs": [],
   "source": [
    "encoding = tokenizer(text, truncation=True, padding=\"max_length\", max_length=512, stride=128, return_overflowing_tokens=True, return_offsets_mapping=True)"
   ]
  },
  {
   "cell_type": "code",
   "execution_count": 194,
   "id": "2f01c969",
   "metadata": {},
   "outputs": [
    {
     "data": {
      "text/plain": [
       "dict_keys(['input_ids', 'token_type_ids', 'attention_mask', 'offset_mapping', 'overflow_to_sample_mapping'])"
      ]
     },
     "execution_count": 194,
     "metadata": {},
     "output_type": "execute_result"
    }
   ],
   "source": [
    "encoding.keys()"
   ]
  },
  {
   "cell_type": "code",
   "execution_count": 200,
   "id": "4ef27de1",
   "metadata": {},
   "outputs": [],
   "source": [
    "input_ids = encoding['input_ids']\n",
    "token_type_ids = encoding['token_type_ids']\n",
    "attention_mask = encoding['attention_mask']\n",
    "offset_mapping = encoding['offset_mapping']\n",
    "overflow_to_sample_mapping = encoding['overflow_to_sample_mapping']"
   ]
  },
  {
   "cell_type": "code",
   "execution_count": 202,
   "id": "7a545eab",
   "metadata": {},
   "outputs": [
    {
     "name": "stdout",
     "output_type": "stream",
     "text": [
      "2\n",
      "2\n",
      "2\n",
      "2\n",
      "2\n"
     ]
    }
   ],
   "source": [
    "print(len(input_ids))\n",
    "print(len(token_type_ids))\n",
    "print(len(attention_mask))\n",
    "print(len(offset_mapping))\n",
    "print(len(overflow_to_sample_mapping))"
   ]
  },
  {
   "cell_type": "code",
   "execution_count": null,
   "id": "96f7c91a",
   "metadata": {},
   "outputs": [],
   "source": []
  }
 ],
 "metadata": {
  "kernelspec": {
   "display_name": "Python 3 (ipykernel)",
   "language": "python",
   "name": "python3"
  },
  "language_info": {
   "codemirror_mode": {
    "name": "ipython",
    "version": 3
   },
   "file_extension": ".py",
   "mimetype": "text/x-python",
   "name": "python",
   "nbconvert_exporter": "python",
   "pygments_lexer": "ipython3",
   "version": "3.10.9"
  }
 },
 "nbformat": 4,
 "nbformat_minor": 5
}
